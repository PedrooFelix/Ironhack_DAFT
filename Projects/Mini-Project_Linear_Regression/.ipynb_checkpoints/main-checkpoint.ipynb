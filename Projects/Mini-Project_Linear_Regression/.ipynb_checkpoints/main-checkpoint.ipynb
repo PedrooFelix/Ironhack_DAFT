{
 "cells": [
  {
   "cell_type": "code",
   "execution_count": 1,
   "metadata": {},
   "outputs": [],
   "source": [
    "import pandas as pd\n",
    "import numpy as np\n",
    "import seaborn as sns\n",
    "from sklearn.linear_model import LinearRegression"
   ]
  },
  {
   "cell_type": "code",
   "execution_count": 2,
   "metadata": {},
   "outputs": [],
   "source": [
    "#cria dataframe\n",
    "df=pd.read_csv('diamonds.csv')"
   ]
  },
  {
   "cell_type": "code",
   "execution_count": 3,
   "metadata": {},
   "outputs": [],
   "source": [
    "#cria função para tratar data frame nas colunas categoricas e novas colunas com log\n",
    "def create_log_columns(df,param):\n",
    "    #cria colunas númericas para colunas categoricas com base na ordem de maior valor\n",
    "    \n",
    "    #na coluna clarity é atribuiudo valor de 1 a 8 conforme posição na lista\n",
    "    cat_price=['I1', 'SI2', 'SI1', 'VS2', 'VS1', 'VVS2', 'VVS1', 'IF']\n",
    "    df['clarity_log'] = df['clarity'].apply(lambda x: 1+ (cat_price.index(x)))\n",
    "    #na coluna color criado atribuido valor conforme ordem alfabetica\n",
    "    color_list = sorted(list(df.color.unique()),reverse=True)\n",
    "    df['color_log'] = df['color'].apply(lambda x: 1+ (color_list.index(x)))\n",
    "    #na coluna cut dado valor conforme posição na lista\n",
    "    cut_price = ['Fair', 'Good', 'Very Good', 'Premium', 'Ideal']\n",
    "    df['cut_log'] = df['cut'].apply(lambda x: 1+ (cut_price.index(x)))\n",
    "    \n",
    "    #criação das colunas como log conforme os valores atuais\n",
    "    #como na coluna rick não temos a coluna price, foi criado parametro que define se ela sera criada ou não\n",
    "    if param == 1:\n",
    "        df['price_log'] = np.log(df['price'])\n",
    "    #para as demais foi feito o log sendo que nas colunas que possam ter zeros é feito log(x+1)\n",
    "    df['carat_log']=np.log(df['carat'])\n",
    "    df['cut_log']=np.log(df['cut_log'])\n",
    "    df['color_log']=np.log(df['color_log'])\n",
    "    df['clarity_log']=np.log(df['clarity_log'])\n",
    "    df['depth_log']=np.log(df['depth'])\n",
    "    df['table_log']=np.log(df['table'])\n",
    "    df['x_log']=np.log(df['x']+1)\n",
    "    df['y_log']=np.log(df['y']+1)\n",
    "    df['z_log']=np.log(df['z']+1)\n",
    "    return df"
   ]
  },
  {
   "cell_type": "code",
   "execution_count": 4,
   "metadata": {},
   "outputs": [],
   "source": [
    "#aplica a função que trata o dataframe\n",
    "df = create_log_columns(df,1)\n",
    "#cria uma lista com todos dados unicos na coluna clarity\n",
    "clar_lst = df.clarity.unique()\n",
    "#cria uma lista com dataframes para cada tipo de clarity\n",
    "dfs = [df.query(f'(clarity ==\"{x}\")') for x in clar_lst]"
   ]
  },
  {
   "cell_type": "code",
   "execution_count": 8,
   "metadata": {},
   "outputs": [],
   "source": [
    "def ger_model(df):\n",
    "    #cria uma função que gera um modelo com base no dataframe inputa\n",
    "    y= df['price_log']\n",
    "    X= df[['carat_log','cut_log','color_log','depth_log','table_log','x_log','y_log','z_log']]\n",
    "    modelo = LinearRegression()\n",
    "    modelo.fit(X, y)\n",
    "    return modelo"
   ]
  },
  {
   "cell_type": "code",
   "execution_count": 9,
   "metadata": {},
   "outputs": [],
   "source": [
    "#para cada dataframe é gerado um modelo\n",
    "modelos = [ger_model(df) for df in dfs]"
   ]
  },
  {
   "cell_type": "code",
   "execution_count": 10,
   "metadata": {},
   "outputs": [],
   "source": [
    "def do_predict(row):\n",
    "    #para cada linha é buscado o modelo correspondente e feito o predict\n",
    "    #busca qual o clarity na linha\n",
    "    clar = row['clarity']\n",
    "    #define o input conforme os dados da linha\n",
    "    X= [[row['carat_log'],row['cut_log'],row['color_log'],row['depth_log'],row['table_log'],row['x_log'],row['y_log'],row['z_log']]]\n",
    "    #busca o modelo correspondente conforme a clarity\n",
    "    index = list(clar_lst).index(clar)\n",
    "    model = modelos[index] \n",
    "    #realiza a previsão\n",
    "    y_predict = model.predict(X)\n",
    "    #faz o exponencial para voltar a conversão feita no log\n",
    "    y_predict=np.exp(y_predict)\n",
    "    #retorna y_predict\n",
    "    return y_predict\n",
    " "
   ]
  },
  {
   "cell_type": "code",
   "execution_count": 11,
   "metadata": {},
   "outputs": [
    {
     "data": {
      "text/plain": [
       "0.966"
      ]
     },
     "execution_count": 11,
     "metadata": {},
     "output_type": "execute_result"
    }
   ],
   "source": [
    "#cria um array com as previsões conforme cada linha do dataframe\n",
    "y_predict = df.apply(lambda row : do_predict(row), axis=1)\n",
    "#seleciona a coluna real para comparar com o previsto\n",
    "y_real = df['price']\n",
    "#calcula r2 do model\n",
    "metrics.r2_score(y_real, y_predict).round(3)"
   ]
  },
  {
   "cell_type": "code",
   "execution_count": 12,
   "metadata": {},
   "outputs": [
    {
     "data": {
      "text/plain": [
       "740.9133966289618"
      ]
     },
     "execution_count": 12,
     "metadata": {},
     "output_type": "execute_result"
    }
   ],
   "source": [
    "#calcula rmse\n",
    "np.sqrt(metrics.mean_squared_error(y_real,y_predict))"
   ]
  },
  {
   "cell_type": "code",
   "execution_count": 13,
   "metadata": {},
   "outputs": [],
   "source": [
    "#busca o df do rick e faz uma cópia\n",
    "rick_diamonds = pd.read_csv('rick_diamonds.csv')\n",
    "rick_copy = rick_diamonds.copy()\n",
    "#trata a copia para criar as colunas com log\n",
    "rick_copy = create_log_columns(rick_copy,0)\n",
    "#faz a previsão com a função criada para cada linha\n",
    "y_predict = rick_copy.apply(lambda row : do_predict(row)[0], axis=1)\n",
    "#cria uma coluna no dataframe principal com preco predito\n",
    "rick_diamonds['price_predicted'] = y_predict\n",
    "#salva o df\n",
    "rick_diamonds.to_csv('./Deliverables/rick_diamonds_new.csv')"
   ]
  }
 ],
 "metadata": {
  "hide_input": false,
  "kernelspec": {
   "display_name": "Python 3",
   "language": "python",
   "name": "python3"
  },
  "language_info": {
   "codemirror_mode": {
    "name": "ipython",
    "version": 3
   },
   "file_extension": ".py",
   "mimetype": "text/x-python",
   "name": "python",
   "nbconvert_exporter": "python",
   "pygments_lexer": "ipython3",
   "version": "3.7.4"
  },
  "toc": {
   "base_numbering": 1,
   "nav_menu": {},
   "number_sections": true,
   "sideBar": true,
   "skip_h1_title": false,
   "title_cell": "Table of Contents",
   "title_sidebar": "Contents",
   "toc_cell": false,
   "toc_position": {},
   "toc_section_display": true,
   "toc_window_display": false
  },
  "varInspector": {
   "cols": {
    "lenName": 16,
    "lenType": 16,
    "lenVar": 40
   },
   "kernels_config": {
    "python": {
     "delete_cmd_postfix": "",
     "delete_cmd_prefix": "del ",
     "library": "var_list.py",
     "varRefreshCmd": "print(var_dic_list())"
    },
    "r": {
     "delete_cmd_postfix": ") ",
     "delete_cmd_prefix": "rm(",
     "library": "var_list.r",
     "varRefreshCmd": "cat(var_dic_list()) "
    }
   },
   "types_to_exclude": [
    "module",
    "function",
    "builtin_function_or_method",
    "instance",
    "_Feature"
   ],
   "window_display": false
  }
 },
 "nbformat": 4,
 "nbformat_minor": 2
}
