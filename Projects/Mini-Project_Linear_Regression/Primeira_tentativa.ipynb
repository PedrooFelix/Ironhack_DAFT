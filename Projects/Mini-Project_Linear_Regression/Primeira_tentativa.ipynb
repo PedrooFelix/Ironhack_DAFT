{
 "cells": [
  {
   "cell_type": "code",
   "execution_count": 165,
   "metadata": {},
   "outputs": [],
   "source": [
    "import pandas as pd\n",
    "import numpy as np\n",
    "import seaborn as sns\n",
    "import matplotlib.pyplot as plt\n",
    "from sklearn.model_selection import train_test_split\n",
    "from sklearn.linear_model import LinearRegression\n",
    "from sklearn import metrics\n",
    "import statsmodels.api as sm"
   ]
  },
  {
   "cell_type": "code",
   "execution_count": 57,
   "metadata": {},
   "outputs": [],
   "source": [
    "diamonds = pd.read_csv('diamonds.csv')"
   ]
  },
  {
   "cell_type": "code",
   "execution_count": 3,
   "metadata": {},
   "outputs": [
    {
     "data": {
      "text/html": [
       "<div>\n",
       "<style scoped>\n",
       "    .dataframe tbody tr th:only-of-type {\n",
       "        vertical-align: middle;\n",
       "    }\n",
       "\n",
       "    .dataframe tbody tr th {\n",
       "        vertical-align: top;\n",
       "    }\n",
       "\n",
       "    .dataframe thead th {\n",
       "        text-align: right;\n",
       "    }\n",
       "</style>\n",
       "<table border=\"1\" class=\"dataframe\">\n",
       "  <thead>\n",
       "    <tr style=\"text-align: right;\">\n",
       "      <th></th>\n",
       "      <th>carat</th>\n",
       "      <th>cut</th>\n",
       "      <th>color</th>\n",
       "      <th>clarity</th>\n",
       "      <th>depth</th>\n",
       "      <th>table</th>\n",
       "      <th>price</th>\n",
       "      <th>x</th>\n",
       "      <th>y</th>\n",
       "      <th>z</th>\n",
       "    </tr>\n",
       "  </thead>\n",
       "  <tbody>\n",
       "    <tr>\n",
       "      <th>0</th>\n",
       "      <td>0.21</td>\n",
       "      <td>Premium</td>\n",
       "      <td>E</td>\n",
       "      <td>SI1</td>\n",
       "      <td>59.8</td>\n",
       "      <td>61.0</td>\n",
       "      <td>326</td>\n",
       "      <td>3.89</td>\n",
       "      <td>3.84</td>\n",
       "      <td>2.31</td>\n",
       "    </tr>\n",
       "    <tr>\n",
       "      <th>1</th>\n",
       "      <td>0.23</td>\n",
       "      <td>Good</td>\n",
       "      <td>E</td>\n",
       "      <td>VS1</td>\n",
       "      <td>56.9</td>\n",
       "      <td>65.0</td>\n",
       "      <td>327</td>\n",
       "      <td>4.05</td>\n",
       "      <td>4.07</td>\n",
       "      <td>2.31</td>\n",
       "    </tr>\n",
       "    <tr>\n",
       "      <th>2</th>\n",
       "      <td>0.29</td>\n",
       "      <td>Premium</td>\n",
       "      <td>I</td>\n",
       "      <td>VS2</td>\n",
       "      <td>62.4</td>\n",
       "      <td>58.0</td>\n",
       "      <td>334</td>\n",
       "      <td>4.20</td>\n",
       "      <td>4.23</td>\n",
       "      <td>2.63</td>\n",
       "    </tr>\n",
       "    <tr>\n",
       "      <th>3</th>\n",
       "      <td>0.31</td>\n",
       "      <td>Good</td>\n",
       "      <td>J</td>\n",
       "      <td>SI2</td>\n",
       "      <td>63.3</td>\n",
       "      <td>58.0</td>\n",
       "      <td>335</td>\n",
       "      <td>4.34</td>\n",
       "      <td>4.35</td>\n",
       "      <td>2.75</td>\n",
       "    </tr>\n",
       "    <tr>\n",
       "      <th>4</th>\n",
       "      <td>0.24</td>\n",
       "      <td>Very Good</td>\n",
       "      <td>J</td>\n",
       "      <td>VVS2</td>\n",
       "      <td>62.8</td>\n",
       "      <td>57.0</td>\n",
       "      <td>336</td>\n",
       "      <td>3.94</td>\n",
       "      <td>3.96</td>\n",
       "      <td>2.48</td>\n",
       "    </tr>\n",
       "  </tbody>\n",
       "</table>\n",
       "</div>"
      ],
      "text/plain": [
       "   carat        cut color clarity  depth  table  price     x     y     z\n",
       "0   0.21    Premium     E     SI1   59.8   61.0    326  3.89  3.84  2.31\n",
       "1   0.23       Good     E     VS1   56.9   65.0    327  4.05  4.07  2.31\n",
       "2   0.29    Premium     I     VS2   62.4   58.0    334  4.20  4.23  2.63\n",
       "3   0.31       Good     J     SI2   63.3   58.0    335  4.34  4.35  2.75\n",
       "4   0.24  Very Good     J    VVS2   62.8   57.0    336  3.94  3.96  2.48"
      ]
     },
     "execution_count": 3,
     "metadata": {},
     "output_type": "execute_result"
    }
   ],
   "source": [
    "diamonds.head()"
   ]
  },
  {
   "cell_type": "markdown",
   "metadata": {},
   "source": [
    "# Work in categorical columns"
   ]
  },
  {
   "cell_type": "markdown",
   "metadata": {},
   "source": [
    "## Clarity column"
   ]
  },
  {
   "cell_type": "code",
   "execution_count": 58,
   "metadata": {},
   "outputs": [
    {
     "data": {
      "text/plain": [
       "array(['SI1', 'VS1', 'VS2', 'SI2', 'VVS2', 'VVS1', 'I1', 'IF'],\n",
       "      dtype=object)"
      ]
     },
     "execution_count": 58,
     "metadata": {},
     "output_type": "execute_result"
    }
   ],
   "source": [
    "diamonds.clarity.unique()"
   ]
  },
  {
   "cell_type": "code",
   "execution_count": 59,
   "metadata": {},
   "outputs": [],
   "source": [
    "cat_price=['I1', 'SI2', 'SI1', 'VS2', 'VS1', 'VVS2', 'VVS1', 'IF']\n",
    "diamonds['clarity'] = diamonds['clarity'].apply(lambda x: 1+ (cat_price.index(x)))"
   ]
  },
  {
   "cell_type": "code",
   "execution_count": 61,
   "metadata": {},
   "outputs": [
    {
     "data": {
      "text/plain": [
       "<matplotlib.axes._subplots.AxesSubplot at 0x1b4391da208>"
      ]
     },
     "execution_count": 61,
     "metadata": {},
     "output_type": "execute_result"
    },
    {
     "data": {
      "image/png": "[encoded data removed]",
      "text/plain": [
       "<Figure size 720x720 with 1 Axes>"
      ]
     },
     "metadata": {
      "needs_background": "light"
     },
     "output_type": "display_data"
    }
   ],
   "source": [
    "plt.figure(figsize=(10, 10))\n",
    "sns.regplot(diamonds.clarity, diamonds.price, scatter=True)\n"
   ]
  },
  {
   "cell_type": "code",
   "execution_count": 62,
   "metadata": {},
   "outputs": [
    {
     "data": {
      "text/plain": [
       "0.0221022293083401"
      ]
     },
     "execution_count": 62,
     "metadata": {},
     "output_type": "execute_result"
    }
   ],
   "source": [
    "from scipy import stats\n",
    "slope, intercept, r_value, p_value, std_err = stats.linregress(diamonds.clarity, diamonds.price)\n",
    "r2 = r_value ** 2\n",
    "r2"
   ]
  },
  {
   "cell_type": "markdown",
   "metadata": {},
   "source": [
    "## Color"
   ]
  },
  {
   "cell_type": "code",
   "execution_count": 72,
   "metadata": {},
   "outputs": [],
   "source": [
    "color_list = sorted(list(diamonds.color.unique()),reverse=True)\n",
    "diamonds['color'] = diamonds['color'].apply(lambda x: 1+ (color_list.index(x)))"
   ]
  },
  {
   "cell_type": "code",
   "execution_count": 75,
   "metadata": {},
   "outputs": [
    {
     "data": {
      "text/plain": [
       "<matplotlib.axes._subplots.AxesSubplot at 0x1b4398d2188>"
      ]
     },
     "execution_count": 75,
     "metadata": {},
     "output_type": "execute_result"
    },
    {
     "data": {
      "image/png": "[encoded data removed]",
      "text/plain": [
       "<Figure size 720x720 with 1 Axes>"
      ]
     },
     "metadata": {
      "needs_background": "light"
     },
     "output_type": "display_data"
    }
   ],
   "source": [
    "plt.figure(figsize=(10, 10))\n",
    "sns.regplot(diamonds.color, diamonds.price, scatter=True)"
   ]
  },
  {
   "cell_type": "code",
   "execution_count": 76,
   "metadata": {},
   "outputs": [
    {
     "data": {
      "text/plain": [
       "0.029973814519239396"
      ]
     },
     "execution_count": 76,
     "metadata": {},
     "output_type": "execute_result"
    }
   ],
   "source": [
    "from scipy import stats\n",
    "slope, intercept, r_value, p_value, std_err = stats.linregress(diamonds.color, diamonds.price)\n",
    "r2 = r_value ** 2\n",
    "r2"
   ]
  },
  {
   "cell_type": "markdown",
   "metadata": {},
   "source": [
    "## Cut"
   ]
  },
  {
   "cell_type": "code",
   "execution_count": 80,
   "metadata": {},
   "outputs": [],
   "source": [
    "cut_price = ['Fair', 'Good', 'Very Good', 'Premium', 'Ideal']\n",
    "diamonds['cut'] = diamonds['cut'].apply(lambda x: 1+ (cut_price.index(x)))"
   ]
  },
  {
   "cell_type": "code",
   "execution_count": 81,
   "metadata": {},
   "outputs": [
    {
     "data": {
      "text/plain": [
       "<matplotlib.axes._subplots.AxesSubplot at 0x1b43986a948>"
      ]
     },
     "execution_count": 81,
     "metadata": {},
     "output_type": "execute_result"
    },
    {
     "data": {
      "image/png": "[encoded data removed]",
      "text/plain": [
       "<Figure size 720x720 with 1 Axes>"
      ]
     },
     "metadata": {
      "needs_background": "light"
     },
     "output_type": "display_data"
    }
   ],
   "source": [
    "plt.figure(figsize=(10, 10))\n",
    "sns.regplot(diamonds.cut, diamonds.price, scatter=True)"
   ]
  },
  {
   "cell_type": "code",
   "execution_count": 82,
   "metadata": {},
   "outputs": [
    {
     "data": {
      "text/plain": [
       "0.029973814519239396"
      ]
     },
     "execution_count": 82,
     "metadata": {},
     "output_type": "execute_result"
    }
   ],
   "source": [
    "from scipy import stats\n",
    "slope, intercept, r_value, p_value, std_err = stats.linregress(diamonds.color, diamonds.price)\n",
    "r2 = r_value ** 2\n",
    "r2"
   ]
  },
  {
   "cell_type": "markdown",
   "metadata": {},
   "source": [
    "## Treinando e Testando"
   ]
  },
  {
   "cell_type": "markdown",
   "metadata": {},
   "source": [
    "### Com todas as cat"
   ]
  },
  {
   "cell_type": "code",
   "execution_count": 195,
   "metadata": {
    "scrolled": true
   },
   "outputs": [
    {
     "name": "stdout",
     "output_type": "stream",
     "text": [
      "                            OLS Regression Results                            \n",
      "==============================================================================\n",
      "Dep. Variable:                  price   R-squared:                       0.907\n",
      "Model:                            OLS   Adj. R-squared:                  0.907\n",
      "Method:                 Least Squares   F-statistic:                 4.238e+04\n",
      "Date:                Wed, 15 Apr 2020   Prob (F-statistic):               0.00\n",
      "Time:                        12:50:41   Log-Likelihood:            -3.3370e+05\n",
      "No. Observations:               39152   AIC:                         6.674e+05\n",
      "Df Residuals:                   39142   BIC:                         6.675e+05\n",
      "Df Model:                           9                                         \n",
      "Covariance Type:            nonrobust                                         \n",
      "==============================================================================\n",
      "                 coef    std err          t      P>|t|      [0.025      0.975]\n",
      "------------------------------------------------------------------------------\n",
      "const       1744.0440    506.992      3.440      0.001     750.327    2737.761\n",
      "carat       1.058e+04     60.440    175.062      0.000    1.05e+04    1.07e+04\n",
      "cut          127.9589      6.728     19.019      0.000     114.772     141.146\n",
      "color        321.6947      3.826     84.080      0.000     314.196     329.194\n",
      "clarity      499.2188      4.156    120.119      0.000     491.073     507.365\n",
      "depth        -74.7709      5.572    -13.418      0.000     -85.693     -63.849\n",
      "table        -18.9739      3.495     -5.429      0.000     -25.824     -12.124\n",
      "x          -1749.4561     97.117    -18.014      0.000   -1939.808   -1559.104\n",
      "y            993.8272     96.335     10.316      0.000     805.008    1182.646\n",
      "z            -45.3359     37.792     -1.200      0.230    -119.409      28.737\n",
      "==============================================================================\n",
      "Omnibus:                     9227.885   Durbin-Watson:                   2.010\n",
      "Prob(Omnibus):                  0.000   Jarque-Bera (JB):           509072.542\n",
      "Skew:                          -0.177   Prob(JB):                         0.00\n",
      "Kurtosis:                      20.662   Cond. No.                     7.03e+03\n",
      "==============================================================================\n",
      "\n",
      "Warnings:\n",
      "[1] Standard Errors assume that the covariance matrix of the errors is correctly specified.\n",
      "[2] The condition number is large, 7.03e+03. This might indicate that there are\n",
      "strong multicollinearity or other numerical problems.\n"
     ]
    },
    {
     "name": "stderr",
     "output_type": "stream",
     "text": [
      "C:\\Users\\pedro\\Anaconda3\\lib\\site-packages\\numpy\\core\\fromnumeric.py:2542: FutureWarning: Method .ptp is deprecated and will be removed in a future version. Use numpy.ptp instead.\n",
      "  return ptp(axis=axis, out=out, **kwargs)\n"
     ]
    }
   ],
   "source": [
    "y= diamonds['price']\n",
    "X= diamonds[['carat','cut','color','clarity','depth','table','x','y','z']]\n",
    "X_train, X_test, y_train, y_test = train_test_split(X,y, test_size=0.2, random_state=2811)\n",
    "X_train_com_constante = sm.add_constant(X_train)\n",
    "modelo_statsmodels = sm.OLS(y_train, X_train_com_constante, hasconst=True).fit()\n",
    "print(modelo_statsmodels.summary())"
   ]
  },
  {
   "cell_type": "code",
   "execution_count": 196,
   "metadata": {},
   "outputs": [
    {
     "name": "stdout",
     "output_type": "stream",
     "text": [
      "R² = 0.891\n",
      "Erro² = 1315.947\n"
     ]
    }
   ],
   "source": [
    "modelo = LinearRegression()\n",
    "modelo.fit(X_train, y_train)\n",
    "y_previsto = modelo.predict(X_test)\n",
    "print(f'R² = {metrics.r2_score(y_test, y_previsto).round(3)}')\n",
    "print(f'Erro² = {np.sqrt(metrics.mean_squared_error(y_test, y_previsto)).round(3)}')"
   ]
  },
  {
   "cell_type": "markdown",
   "metadata": {},
   "source": [
    "### Filtrando as com confiança menor que 95%"
   ]
  },
  {
   "cell_type": "code",
   "execution_count": 203,
   "metadata": {},
   "outputs": [
    {
     "name": "stdout",
     "output_type": "stream",
     "text": [
      "                            OLS Regression Results                            \n",
      "==============================================================================\n",
      "Dep. Variable:                  price   R-squared:                       0.907\n",
      "Model:                            OLS   Adj. R-squared:                  0.907\n",
      "Method:                 Least Squares   F-statistic:                 4.238e+04\n",
      "Date:                Wed, 15 Apr 2020   Prob (F-statistic):               0.00\n",
      "Time:                        12:55:40   Log-Likelihood:            -3.3370e+05\n",
      "No. Observations:               39152   AIC:                         6.674e+05\n",
      "Df Residuals:                   39142   BIC:                         6.675e+05\n",
      "Df Model:                           9                                         \n",
      "Covariance Type:            nonrobust                                         \n",
      "==============================================================================\n",
      "                 coef    std err          t      P>|t|      [0.025      0.975]\n",
      "------------------------------------------------------------------------------\n",
      "const       1744.0440    506.992      3.440      0.001     750.327    2737.761\n",
      "carat       1.058e+04     60.440    175.062      0.000    1.05e+04    1.07e+04\n",
      "cut          127.9589      6.728     19.019      0.000     114.772     141.146\n",
      "color        321.6947      3.826     84.080      0.000     314.196     329.194\n",
      "clarity      499.2188      4.156    120.119      0.000     491.073     507.365\n",
      "depth        -74.7709      5.572    -13.418      0.000     -85.693     -63.849\n",
      "table        -18.9739      3.495     -5.429      0.000     -25.824     -12.124\n",
      "x          -1749.4561     97.117    -18.014      0.000   -1939.808   -1559.104\n",
      "y            993.8272     96.335     10.316      0.000     805.008    1182.646\n",
      "z            -45.3359     37.792     -1.200      0.230    -119.409      28.737\n",
      "==============================================================================\n",
      "Omnibus:                     9227.885   Durbin-Watson:                   2.010\n",
      "Prob(Omnibus):                  0.000   Jarque-Bera (JB):           509072.542\n",
      "Skew:                          -0.177   Prob(JB):                         0.00\n",
      "Kurtosis:                      20.662   Cond. No.                     7.03e+03\n",
      "==============================================================================\n",
      "\n",
      "Warnings:\n",
      "[1] Standard Errors assume that the covariance matrix of the errors is correctly specified.\n",
      "[2] The condition number is large, 7.03e+03. This might indicate that there are\n",
      "strong multicollinearity or other numerical problems.\n"
     ]
    },
    {
     "name": "stderr",
     "output_type": "stream",
     "text": [
      "C:\\Users\\pedro\\Anaconda3\\lib\\site-packages\\numpy\\core\\fromnumeric.py:2542: FutureWarning: Method .ptp is deprecated and will be removed in a future version. Use numpy.ptp instead.\n",
      "  return ptp(axis=axis, out=out, **kwargs)\n"
     ]
    }
   ],
   "source": [
    "y= diamonds['price']\n",
    "X= diamonds[['carat','cut','color','clarity','depth','table','x','y','z']]\n",
    "X_train, X_test, y_train, y_test = train_test_split(X,y, test_size=0.2, random_state=2811)\n",
    "X_train_com_constante = sm.add_constant(X_train)\n",
    "modelo_statsmodels = sm.OLS(y_train, X_train_com_constante, hasconst=True).fit()\n",
    "print(modelo_statsmodels.summary())"
   ]
  },
  {
   "cell_type": "code",
   "execution_count": 204,
   "metadata": {},
   "outputs": [
    {
     "name": "stdout",
     "output_type": "stream",
     "text": [
      "R² = 0.891\n",
      "Erro² = 1315.947\n"
     ]
    }
   ],
   "source": [
    "modelo = LinearRegression()\n",
    "modelo.fit(X_train, y_train)\n",
    "y_previsto = modelo.predict(X_test)\n",
    "print(f'R² = {metrics.r2_score(y_test, y_previsto).round(3)}')\n",
    "print(f'Erro² = {np.sqrt(metrics.mean_squared_error(y_test, y_previsto)).round(3)}')"
   ]
  },
  {
   "cell_type": "code",
   "execution_count": 279,
   "metadata": {},
   "outputs": [
    {
     "data": {
      "text/html": [
       "<div>\n",
       "<style scoped>\n",
       "    .dataframe tbody tr th:only-of-type {\n",
       "        vertical-align: middle;\n",
       "    }\n",
       "\n",
       "    .dataframe tbody tr th {\n",
       "        vertical-align: top;\n",
       "    }\n",
       "\n",
       "    .dataframe thead th {\n",
       "        text-align: right;\n",
       "    }\n",
       "</style>\n",
       "<table border=\"1\" class=\"dataframe\">\n",
       "  <thead>\n",
       "    <tr style=\"text-align: right;\">\n",
       "      <th></th>\n",
       "      <th>carat</th>\n",
       "      <th>cut</th>\n",
       "      <th>color</th>\n",
       "      <th>clarity</th>\n",
       "      <th>depth</th>\n",
       "      <th>table</th>\n",
       "      <th>price</th>\n",
       "      <th>x</th>\n",
       "      <th>y</th>\n",
       "      <th>z</th>\n",
       "    </tr>\n",
       "  </thead>\n",
       "  <tbody>\n",
       "    <tr>\n",
       "      <th>0</th>\n",
       "      <td>-1.560648</td>\n",
       "      <td>1.386294</td>\n",
       "      <td>1.791759</td>\n",
       "      <td>1.098612</td>\n",
       "      <td>4.091006</td>\n",
       "      <td>4.110874</td>\n",
       "      <td>5.786897</td>\n",
       "      <td>1.358409</td>\n",
       "      <td>1.345472</td>\n",
       "      <td>0.837248</td>\n",
       "    </tr>\n",
       "    <tr>\n",
       "      <th>1</th>\n",
       "      <td>-1.469676</td>\n",
       "      <td>0.693147</td>\n",
       "      <td>1.791759</td>\n",
       "      <td>1.609438</td>\n",
       "      <td>4.041295</td>\n",
       "      <td>4.174387</td>\n",
       "      <td>5.789960</td>\n",
       "      <td>1.398717</td>\n",
       "      <td>1.403643</td>\n",
       "      <td>0.837248</td>\n",
       "    </tr>\n",
       "    <tr>\n",
       "      <th>2</th>\n",
       "      <td>-1.237874</td>\n",
       "      <td>1.386294</td>\n",
       "      <td>0.693147</td>\n",
       "      <td>1.386294</td>\n",
       "      <td>4.133565</td>\n",
       "      <td>4.060443</td>\n",
       "      <td>5.811141</td>\n",
       "      <td>1.435085</td>\n",
       "      <td>1.442202</td>\n",
       "      <td>0.966984</td>\n",
       "    </tr>\n",
       "    <tr>\n",
       "      <th>3</th>\n",
       "      <td>-1.171183</td>\n",
       "      <td>0.693147</td>\n",
       "      <td>0.000000</td>\n",
       "      <td>0.693147</td>\n",
       "      <td>4.147885</td>\n",
       "      <td>4.060443</td>\n",
       "      <td>5.814131</td>\n",
       "      <td>1.467874</td>\n",
       "      <td>1.470176</td>\n",
       "      <td>1.011601</td>\n",
       "    </tr>\n",
       "    <tr>\n",
       "      <th>4</th>\n",
       "      <td>-1.427116</td>\n",
       "      <td>1.098612</td>\n",
       "      <td>0.000000</td>\n",
       "      <td>1.791759</td>\n",
       "      <td>4.139955</td>\n",
       "      <td>4.043051</td>\n",
       "      <td>5.817111</td>\n",
       "      <td>1.371181</td>\n",
       "      <td>1.376244</td>\n",
       "      <td>0.908259</td>\n",
       "    </tr>\n",
       "    <tr>\n",
       "      <th>...</th>\n",
       "      <td>...</td>\n",
       "      <td>...</td>\n",
       "      <td>...</td>\n",
       "      <td>...</td>\n",
       "      <td>...</td>\n",
       "      <td>...</td>\n",
       "      <td>...</td>\n",
       "      <td>...</td>\n",
       "      <td>...</td>\n",
       "      <td>...</td>\n",
       "    </tr>\n",
       "    <tr>\n",
       "      <th>48935</th>\n",
       "      <td>-0.328504</td>\n",
       "      <td>1.386294</td>\n",
       "      <td>1.945910</td>\n",
       "      <td>1.098612</td>\n",
       "      <td>4.138361</td>\n",
       "      <td>4.077537</td>\n",
       "      <td>7.921898</td>\n",
       "      <td>1.738710</td>\n",
       "      <td>1.745716</td>\n",
       "      <td>1.275363</td>\n",
       "    </tr>\n",
       "    <tr>\n",
       "      <th>48936</th>\n",
       "      <td>-0.328504</td>\n",
       "      <td>1.609438</td>\n",
       "      <td>1.945910</td>\n",
       "      <td>1.098612</td>\n",
       "      <td>4.107590</td>\n",
       "      <td>4.043051</td>\n",
       "      <td>7.921898</td>\n",
       "      <td>1.749200</td>\n",
       "      <td>1.750937</td>\n",
       "      <td>1.252763</td>\n",
       "    </tr>\n",
       "    <tr>\n",
       "      <th>48937</th>\n",
       "      <td>-0.328504</td>\n",
       "      <td>0.693147</td>\n",
       "      <td>1.945910</td>\n",
       "      <td>1.098612</td>\n",
       "      <td>4.144721</td>\n",
       "      <td>4.007333</td>\n",
       "      <td>7.921898</td>\n",
       "      <td>1.738710</td>\n",
       "      <td>1.749200</td>\n",
       "      <td>1.283708</td>\n",
       "    </tr>\n",
       "    <tr>\n",
       "      <th>48938</th>\n",
       "      <td>-0.356675</td>\n",
       "      <td>1.098612</td>\n",
       "      <td>1.945910</td>\n",
       "      <td>1.098612</td>\n",
       "      <td>4.139955</td>\n",
       "      <td>4.094345</td>\n",
       "      <td>7.921898</td>\n",
       "      <td>1.733424</td>\n",
       "      <td>1.736951</td>\n",
       "      <td>1.269761</td>\n",
       "    </tr>\n",
       "    <tr>\n",
       "      <th>48939</th>\n",
       "      <td>-0.287682</td>\n",
       "      <td>1.609438</td>\n",
       "      <td>1.945910</td>\n",
       "      <td>0.693147</td>\n",
       "      <td>4.130355</td>\n",
       "      <td>4.007333</td>\n",
       "      <td>7.921898</td>\n",
       "      <td>1.763017</td>\n",
       "      <td>1.769855</td>\n",
       "      <td>1.291984</td>\n",
       "    </tr>\n",
       "  </tbody>\n",
       "</table>\n",
       "<p>48922 rows × 10 columns</p>\n",
       "</div>"
      ],
      "text/plain": [
       "          carat       cut     color   clarity     depth     table     price  \\\n",
       "0     -1.560648  1.386294  1.791759  1.098612  4.091006  4.110874  5.786897   \n",
       "1     -1.469676  0.693147  1.791759  1.609438  4.041295  4.174387  5.789960   \n",
       "2     -1.237874  1.386294  0.693147  1.386294  4.133565  4.060443  5.811141   \n",
       "3     -1.171183  0.693147  0.000000  0.693147  4.147885  4.060443  5.814131   \n",
       "4     -1.427116  1.098612  0.000000  1.791759  4.139955  4.043051  5.817111   \n",
       "...         ...       ...       ...       ...       ...       ...       ...   \n",
       "48935 -0.328504  1.386294  1.945910  1.098612  4.138361  4.077537  7.921898   \n",
       "48936 -0.328504  1.609438  1.945910  1.098612  4.107590  4.043051  7.921898   \n",
       "48937 -0.328504  0.693147  1.945910  1.098612  4.144721  4.007333  7.921898   \n",
       "48938 -0.356675  1.098612  1.945910  1.098612  4.139955  4.094345  7.921898   \n",
       "48939 -0.287682  1.609438  1.945910  0.693147  4.130355  4.007333  7.921898   \n",
       "\n",
       "              x         y         z  \n",
       "0      1.358409  1.345472  0.837248  \n",
       "1      1.398717  1.403643  0.837248  \n",
       "2      1.435085  1.442202  0.966984  \n",
       "3      1.467874  1.470176  1.011601  \n",
       "4      1.371181  1.376244  0.908259  \n",
       "...         ...       ...       ...  \n",
       "48935  1.738710  1.745716  1.275363  \n",
       "48936  1.749200  1.750937  1.252763  \n",
       "48937  1.738710  1.749200  1.283708  \n",
       "48938  1.733424  1.736951  1.269761  \n",
       "48939  1.763017  1.769855  1.291984  \n",
       "\n",
       "[48922 rows x 10 columns]"
      ]
     },
     "execution_count": 279,
     "metadata": {},
     "output_type": "execute_result"
    }
   ],
   "source": [
    "columns = diamonds.columns\n",
    "columns_zero = [column for column in columns if ((diamonds[column]==0).sum())> 0]\n",
    "mask = ((diamonds['x']==0) | (diamonds['y']==0) | (diamonds['z']==0))\n",
    "diamonds_log = diamonds.loc[~mask,:]\n",
    "diamonds_log = np.log(diamonds_log)\n",
    "diamonds_log"
   ]
  },
  {
   "cell_type": "code",
   "execution_count": 298,
   "metadata": {},
   "outputs": [
    {
     "name": "stdout",
     "output_type": "stream",
     "text": [
      "                            OLS Regression Results                            \n",
      "==============================================================================\n",
      "Dep. Variable:                  price   R-squared:                       0.982\n",
      "Model:                            OLS   Adj. R-squared:                  0.982\n",
      "Method:                 Least Squares   F-statistic:                 3.578e+05\n",
      "Date:                Wed, 15 Apr 2020   Prob (F-statistic):               0.00\n",
      "Time:                        13:54:41   Log-Likelihood:                 22597.\n",
      "No. Observations:               39137   AIC:                        -4.518e+04\n",
      "Df Residuals:                   39130   BIC:                        -4.512e+04\n",
      "Df Model:                           6                                         \n",
      "Covariance Type:            nonrobust                                         \n",
      "==============================================================================\n",
      "                 coef    std err          t      P>|t|      [0.025      0.975]\n",
      "------------------------------------------------------------------------------\n",
      "const          7.9649      0.199     39.993      0.000       7.575       8.355\n",
      "carat          1.8829      0.001   1401.085      0.000       1.880       1.886\n",
      "cut            0.0935      0.002     41.565      0.000       0.089       0.098\n",
      "color          0.2771      0.001    188.180      0.000       0.274       0.280\n",
      "clarity        0.4806      0.002    269.658      0.000       0.477       0.484\n",
      "depth         -0.1162      0.034     -3.390      0.001      -0.183      -0.049\n",
      "table         -0.0227      0.022     -1.039      0.299      -0.065       0.020\n",
      "==============================================================================\n",
      "Omnibus:                     2728.290   Durbin-Watson:                   1.969\n",
      "Prob(Omnibus):                  0.000   Jarque-Bera (JB):            11634.926\n",
      "Skew:                           0.216   Prob(JB):                         0.00\n",
      "Kurtosis:                       5.636   Cond. No.                     1.86e+03\n",
      "==============================================================================\n",
      "\n",
      "Warnings:\n",
      "[1] Standard Errors assume that the covariance matrix of the errors is correctly specified.\n",
      "[2] The condition number is large, 1.86e+03. This might indicate that there are\n",
      "strong multicollinearity or other numerical problems.\n"
     ]
    },
    {
     "name": "stderr",
     "output_type": "stream",
     "text": [
      "C:\\Users\\pedro\\Anaconda3\\lib\\site-packages\\numpy\\core\\fromnumeric.py:2542: FutureWarning: Method .ptp is deprecated and will be removed in a future version. Use numpy.ptp instead.\n",
      "  return ptp(axis=axis, out=out, **kwargs)\n"
     ]
    }
   ],
   "source": [
    "y= diamonds_log['price']\n",
    "X= diamonds_log[['carat','cut','color','clarity','depth','table']]\n",
    "X_train, X_test, y_train, y_test = train_test_split(X,y, test_size=0.2, random_state=2811)\n",
    "X_train_com_constante = sm.add_constant(X_train)\n",
    "modelo_statsmodels = sm.OLS(y_train, X_train_com_constante, hasconst=True).fit()\n",
    "print(modelo_statsmodels.summary())"
   ]
  },
  {
   "cell_type": "code",
   "execution_count": 299,
   "metadata": {},
   "outputs": [
    {
     "name": "stdout",
     "output_type": "stream",
     "text": [
      "R² = 0.982\n",
      "Erro² = 0.135\n"
     ]
    }
   ],
   "source": [
    "modelo = LinearRegression()\n",
    "modelo.fit(X_train, y_train)\n",
    "y_previsto = modelo.predict(X_test)\n",
    "print(f'R² = {metrics.r2_score(y_test, y_previsto).round(3)}')\n",
    "print(f'Erro² = {np.sqrt(metrics.mean_squared_error(y_test, y_previsto)).round(3)}')"
   ]
  },
  {
   "cell_type": "code",
   "execution_count": 300,
   "metadata": {},
   "outputs": [
    {
     "data": {
      "text/plain": [
       "811.0426783451574"
      ]
     },
     "execution_count": 300,
     "metadata": {},
     "output_type": "execute_result"
    }
   ],
   "source": [
    "X= diamonds_log[['carat','cut','color','clarity','depth','table']]\n",
    "y_predict = modelo.predict(X)\n",
    "y_predict = np.exp(y_predict)\n",
    "y_real = np.exp(diamonds_log['price'])\n",
    "metrics.r2_score(y_real, y_predict)\n",
    "np.sqrt(metrics.mean_squared_error(y_real, y_predict))"
   ]
  },
  {
   "cell_type": "code",
   "execution_count": 307,
   "metadata": {},
   "outputs": [
    {
     "data": {
      "text/plain": [
       "[]"
      ]
     },
     "execution_count": 307,
     "metadata": {},
     "output_type": "execute_result"
    }
   ],
   "source": [
    "columns = rick_log.columns\n",
    "columns_zero = [column for column in columns if ((rick_log[column]==0).sum())> 0]\n",
    "columns_zero"
   ]
  },
  {
   "cell_type": "code",
   "execution_count": 313,
   "metadata": {},
   "outputs": [
    {
     "name": "stderr",
     "output_type": "stream",
     "text": [
      "C:\\Users\\pedro\\Anaconda3\\lib\\site-packages\\ipykernel_launcher.py:4: SettingWithCopyWarning: \n",
      "A value is trying to be set on a copy of a slice from a DataFrame.\n",
      "Try using .loc[row_indexer,col_indexer] = value instead\n",
      "\n",
      "See the caveats in the documentation: http://pandas.pydata.org/pandas-docs/stable/user_guide/indexing.html#returning-a-view-versus-a-copy\n",
      "  after removing the cwd from sys.path.\n",
      "C:\\Users\\pedro\\Anaconda3\\lib\\site-packages\\ipykernel_launcher.py:6: SettingWithCopyWarning: \n",
      "A value is trying to be set on a copy of a slice from a DataFrame.\n",
      "Try using .loc[row_indexer,col_indexer] = value instead\n",
      "\n",
      "See the caveats in the documentation: http://pandas.pydata.org/pandas-docs/stable/user_guide/indexing.html#returning-a-view-versus-a-copy\n",
      "  \n",
      "C:\\Users\\pedro\\Anaconda3\\lib\\site-packages\\ipykernel_launcher.py:8: SettingWithCopyWarning: \n",
      "A value is trying to be set on a copy of a slice from a DataFrame.\n",
      "Try using .loc[row_indexer,col_indexer] = value instead\n",
      "\n",
      "See the caveats in the documentation: http://pandas.pydata.org/pandas-docs/stable/user_guide/indexing.html#returning-a-view-versus-a-copy\n",
      "  \n"
     ]
    }
   ],
   "source": [
    "rick_diamonds = pd.read_csv('rick_diamonds.csv')\n",
    "rick_log = rick_diamonds[['carat','cut','color','clarity','depth','table']]\n",
    "cat_price=['I1', 'SI2', 'SI1', 'VS2', 'VS1', 'VVS2', 'VVS1', 'IF']\n",
    "rick_log['clarity'] = rick_log['clarity'].apply(lambda x: 1+ (cat_price.index(x)))\n",
    "color_list = sorted(list(rick_log.color.unique()),reverse=True)\n",
    "rick_log['color'] = rick_log['color'].apply(lambda x: 1+ (color_list.index(x)))\n",
    "cut_price = ['Fair', 'Good', 'Very Good', 'Premium', 'Ideal']\n",
    "rick_log['cut'] = rick_log['cut'].apply(lambda x: 1+ (cut_price.index(x)))"
   ]
  },
  {
   "cell_type": "code",
   "execution_count": 315,
   "metadata": {},
   "outputs": [],
   "source": [
    "rick_log = np.log(rick_log)\n",
    "X= rick_log\n",
    "y_predict = modelo.predict(X)"
   ]
  },
  {
   "cell_type": "code",
   "execution_count": 317,
   "metadata": {},
   "outputs": [
    {
     "data": {
      "text/plain": [
       "array([2846.2532489 ,  854.49017965, 1457.24096243, ..., 4868.74872283,\n",
       "        829.05544933,  750.35481153])"
      ]
     },
     "execution_count": 317,
     "metadata": {},
     "output_type": "execute_result"
    }
   ],
   "source": [
    "np.exp(y_predict)"
   ]
  }
 ],
 "metadata": {
  "hide_input": false,
  "kernelspec": {
   "display_name": "Python 3",
   "language": "python",
   "name": "python3"
  },
  "language_info": {
   "codemirror_mode": {
    "name": "ipython",
    "version": 3
   },
   "file_extension": ".py",
   "mimetype": "text/x-python",
   "name": "python",
   "nbconvert_exporter": "python",
   "pygments_lexer": "ipython3",
   "version": "3.7.4"
  },
  "toc": {
   "base_numbering": 1,
   "nav_menu": {},
   "number_sections": true,
   "sideBar": true,
   "skip_h1_title": false,
   "title_cell": "Table of Contents",
   "title_sidebar": "Contents",
   "toc_cell": false,
   "toc_position": {},
   "toc_section_display": true,
   "toc_window_display": false
  },
  "varInspector": {
   "cols": {
    "lenName": 16,
    "lenType": 16,
    "lenVar": 40
   },
   "kernels_config": {
    "python": {
     "delete_cmd_postfix": "",
     "delete_cmd_prefix": "del ",
     "library": "var_list.py",
     "varRefreshCmd": "print(var_dic_list())"
    },
    "r": {
     "delete_cmd_postfix": ") ",
     "delete_cmd_prefix": "rm(",
     "library": "var_list.r",
     "varRefreshCmd": "cat(var_dic_list()) "
    }
   },
   "types_to_exclude": [
    "module",
    "function",
    "builtin_function_or_method",
    "instance",
    "_Feature"
   ],
   "window_display": false
  }
 },
 "nbformat": 4,
 "nbformat_minor": 2
}
