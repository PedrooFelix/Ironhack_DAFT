{
 "cells": [
  {
   "cell_type": "code",
   "execution_count": 8,
   "metadata": {},
   "outputs": [],
   "source": [
    "import pandas as pd\n",
    "import numpy as np\n",
    "import seaborn as sns\n",
    "import matplotlib.pyplot as plt\n",
    "from sklearn.model_selection import train_test_split\n",
    "from sklearn.linear_model import LinearRegression\n",
    "from sklearn import metrics\n",
    "import statsmodels.api as sm"
   ]
  },
  {
   "cell_type": "code",
   "execution_count": 9,
   "metadata": {},
   "outputs": [],
   "source": [
    "df = pd.read_csv('diamonds.csv')"
   ]
  },
  {
   "cell_type": "code",
   "execution_count": 10,
   "metadata": {},
   "outputs": [],
   "source": [
    "def create_log_columns(df,param):\n",
    "    cat_price=['I1', 'SI2', 'SI1', 'VS2', 'VS1', 'VVS2', 'VVS1', 'IF']\n",
    "    df['clarity_log'] = df['clarity'].apply(lambda x: 1+ (cat_price.index(x)))\n",
    "    color_list = sorted(list(df.color.unique()),reverse=True)\n",
    "    df['color_log'] = df['color'].apply(lambda x: 1+ (color_list.index(x)))\n",
    "    cut_price = ['Fair', 'Good', 'Very Good', 'Premium', 'Ideal']\n",
    "    df['cut_log'] = df['cut'].apply(lambda x: 1+ (cut_price.index(x)))\n",
    "    if param == 1:\n",
    "        df['price_log'] = np.log(df['price'])\n",
    "    df['carat_log']=np.log(df['carat'])\n",
    "    df['cut_log']=np.log(df['cut_log'])\n",
    "    df['color_log']=np.log(df['color_log'])\n",
    "    df['clarity_log']=np.log(df['clarity_log'])\n",
    "    df['depth_log']=np.log(df['depth'])\n",
    "    df['table_log']=np.log(df['table'])\n",
    "    df['x_log']=np.log(df['x']+1)\n",
    "    df['y_log']=np.log(df['y']+1)\n",
    "    df['z_log']=np.log(df['z']+1)\n",
    "    return df"
   ]
  },
  {
   "cell_type": "code",
   "execution_count": 11,
   "metadata": {},
   "outputs": [
    {
     "name": "stdout",
     "output_type": "stream",
     "text": [
      "                            OLS Regression Results                            \n",
      "==============================================================================\n",
      "Dep. Variable:              price_log   R-squared:                       0.982\n",
      "Model:                            OLS   Adj. R-squared:                  0.982\n",
      "Method:                 Least Squares   F-statistic:                 2.374e+05\n",
      "Date:                Thu, 16 Apr 2020   Prob (F-statistic):               0.00\n",
      "Time:                        09:45:18   Log-Likelihood:                 22537.\n",
      "No. Observations:               39152   AIC:                        -4.505e+04\n",
      "Df Residuals:                   39142   BIC:                        -4.497e+04\n",
      "Df Model:                           9                                         \n",
      "Covariance Type:            nonrobust                                         \n",
      "===============================================================================\n",
      "                  coef    std err          t      P>|t|      [0.025      0.975]\n",
      "-------------------------------------------------------------------------------\n",
      "const           8.3266      0.240     34.676      0.000       7.856       8.797\n",
      "carat_log       1.8635      0.008    234.165      0.000       1.848       1.879\n",
      "cut_log         0.0910      0.002     40.441      0.000       0.087       0.095\n",
      "color_log       0.2766      0.001    187.966      0.000       0.274       0.279\n",
      "clarity_log     0.4796      0.002    267.850      0.000       0.476       0.483\n",
      "depth_log      -0.1956      0.040     -4.859      0.000      -0.275      -0.117\n",
      "table_log      -0.0574      0.022     -2.604      0.009      -0.101      -0.014\n",
      "x_log           0.3350      0.055      6.058      0.000       0.227       0.443\n",
      "y_log          -0.3342      0.057     -5.845      0.000      -0.446      -0.222\n",
      "z_log           0.0686      0.024      2.837      0.005       0.021       0.116\n",
      "==============================================================================\n",
      "Omnibus:                     3049.678   Durbin-Watson:                   1.993\n",
      "Prob(Omnibus):                  0.000   Jarque-Bera (JB):            14625.376\n",
      "Skew:                           0.226   Prob(JB):                         0.00\n",
      "Kurtosis:                       5.960   Cond. No.                     2.49e+03\n",
      "==============================================================================\n",
      "\n",
      "Warnings:\n",
      "[1] Standard Errors assume that the covariance matrix of the errors is correctly specified.\n",
      "[2] The condition number is large, 2.49e+03. This might indicate that there are\n",
      "strong multicollinearity or other numerical problems.\n"
     ]
    },
    {
     "name": "stderr",
     "output_type": "stream",
     "text": [
      "C:\\Users\\pedro\\Anaconda3\\lib\\site-packages\\numpy\\core\\fromnumeric.py:2542: FutureWarning: Method .ptp is deprecated and will be removed in a future version. Use numpy.ptp instead.\n",
      "  return ptp(axis=axis, out=out, **kwargs)\n"
     ]
    }
   ],
   "source": [
    "df = create_log_columns(df,1)\n",
    "X= df[['carat_log','cut_log','color_log','clarity_log','depth_log','table_log','x_log','y_log','z_log']]\n",
    "y = df['price_log']\n",
    "X_train, X_test, y_train, y_test = train_test_split(X,y, test_size=0.2, random_state=2811)\n",
    "X_train_com_constante = sm.add_constant(X_train)\n",
    "modelo_statsmodels = sm.OLS(y_train, X_train_com_constante, hasconst=True).fit()\n",
    "print(modelo_statsmodels.summary())"
   ]
  },
  {
   "cell_type": "code",
   "execution_count": 12,
   "metadata": {},
   "outputs": [
    {
     "data": {
      "text/plain": [
       "LinearRegression(copy_X=True, fit_intercept=True, n_jobs=None, normalize=False)"
      ]
     },
     "execution_count": 12,
     "metadata": {},
     "output_type": "execute_result"
    }
   ],
   "source": [
    "modelo = LinearRegression()\n",
    "modelo.fit(X_train, y_train)"
   ]
  },
  {
   "cell_type": "code",
   "execution_count": 13,
   "metadata": {},
   "outputs": [
    {
     "data": {
      "text/plain": [
       "0.982"
      ]
     },
     "execution_count": 13,
     "metadata": {},
     "output_type": "execute_result"
    }
   ],
   "source": [
    "modelo.score(X_train, y_train).round(3)"
   ]
  },
  {
   "cell_type": "code",
   "execution_count": null,
   "metadata": {},
   "outputs": [],
   "source": [
    "rick_diamonds = pd.read_csv('rick_diamonds.csv')\n",
    "rick_copy = rick_diamonds.copy()\n",
    "rick_copy = create_log_columns(rick_copy,0)\n",
    "X= rick_copy[['carat_log','cut_log','color_log','clarity_log','depth_log','table_log','x_log','y_log','z_log']]\n",
    "y_predict=modelo.predict(X)\n",
    "y_predict=np.exp(y_predict)\n"
   ]
  }
 ],
 "metadata": {
  "hide_input": false,
  "kernelspec": {
   "display_name": "Python 3",
   "language": "python",
   "name": "python3"
  },
  "language_info": {
   "codemirror_mode": {
    "name": "ipython",
    "version": 3
   },
   "file_extension": ".py",
   "mimetype": "text/x-python",
   "name": "python",
   "nbconvert_exporter": "python",
   "pygments_lexer": "ipython3",
   "version": "3.7.4"
  },
  "toc": {
   "base_numbering": 1,
   "nav_menu": {},
   "number_sections": true,
   "sideBar": true,
   "skip_h1_title": false,
   "title_cell": "Table of Contents",
   "title_sidebar": "Contents",
   "toc_cell": false,
   "toc_position": {},
   "toc_section_display": true,
   "toc_window_display": false
  },
  "varInspector": {
   "cols": {
    "lenName": 16,
    "lenType": 16,
    "lenVar": 40
   },
   "kernels_config": {
    "python": {
     "delete_cmd_postfix": "",
     "delete_cmd_prefix": "del ",
     "library": "var_list.py",
     "varRefreshCmd": "print(var_dic_list())"
    },
    "r": {
     "delete_cmd_postfix": ") ",
     "delete_cmd_prefix": "rm(",
     "library": "var_list.r",
     "varRefreshCmd": "cat(var_dic_list()) "
    }
   },
   "types_to_exclude": [
    "module",
    "function",
    "builtin_function_or_method",
    "instance",
    "_Feature"
   ],
   "window_display": false
  }
 },
 "nbformat": 4,
 "nbformat_minor": 2
}
