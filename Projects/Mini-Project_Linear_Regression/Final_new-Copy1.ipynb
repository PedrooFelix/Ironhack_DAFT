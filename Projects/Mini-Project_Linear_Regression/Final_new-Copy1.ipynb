{
 "cells": [
  {
   "cell_type": "code",
   "execution_count": 7,
   "metadata": {},
   "outputs": [],
   "source": [
    "import pandas as pd\n",
    "import numpy as np\n",
    "import seaborn as sns\n",
    "import matplotlib.pyplot as plt\n",
    "from sklearn.model_selection import train_test_split\n",
    "from sklearn.linear_model import LinearRegression\n",
    "from sklearn import metrics\n",
    "import statsmodels.api as sm"
   ]
  },
  {
   "cell_type": "code",
   "execution_count": 8,
   "metadata": {},
   "outputs": [],
   "source": [
    "df=pd.read_csv('diamonds.csv')"
   ]
  },
  {
   "cell_type": "markdown",
   "metadata": {},
   "source": [
    "# Make test default model"
   ]
  },
  {
   "cell_type": "code",
   "execution_count": 9,
   "metadata": {},
   "outputs": [],
   "source": [
    "#create log columns\n",
    "def create_log_columns(df,param):\n",
    "    cat_price=['I1', 'SI2', 'SI1', 'VS2', 'VS1', 'VVS2', 'VVS1', 'IF']\n",
    "    df['clarity_log'] = df['clarity'].apply(lambda x: 1+ (cat_price.index(x)))\n",
    "    color_list = sorted(list(df.color.unique()),reverse=True)\n",
    "    df['color_log'] = df['color'].apply(lambda x: 1+ (color_list.index(x)))\n",
    "    cut_price = ['Fair', 'Good', 'Very Good', 'Premium', 'Ideal']\n",
    "    df['cut_log'] = df['cut'].apply(lambda x: 1+ (cut_price.index(x)))\n",
    "    if param == 1:\n",
    "        df['price_log'] = np.log(df['price'])\n",
    "    df['carat_log']=np.log(df['carat'])\n",
    "    df['cut_log']=np.log(df['cut_log'])\n",
    "    df['color_log']=np.log(df['color_log'])\n",
    "    df['clarity_log']=np.log(df['clarity_log'])\n",
    "    df['depth_log']=np.log(df['depth'])\n",
    "    df['table_log']=np.log(df['table'])\n",
    "    df['x_log']=np.log(df['x']+1)\n",
    "    df['y_log']=np.log(df['y']+1)\n",
    "    df['z_log']=np.log(df['z']+1)\n",
    "    return df"
   ]
  },
  {
   "cell_type": "markdown",
   "metadata": {},
   "source": [
    "# Make model for categories combination"
   ]
  },
  {
   "cell_type": "code",
   "execution_count": 10,
   "metadata": {},
   "outputs": [],
   "source": [
    "df = create_log_columns(df,1)\n",
    "clar_lst = df.clarity.unique()\n",
    "dfs = [df.query(f'(clarity ==\"{x}\")') for x in clar_lst]"
   ]
  },
  {
   "cell_type": "code",
   "execution_count": 11,
   "metadata": {},
   "outputs": [],
   "source": [
    "def ger_model(df):\n",
    "    y= df['price_log']\n",
    "    X= df[['carat_log','cut_log','color_log','depth_log','table_log','x_log','y_log','z_log']]\n",
    "    modelo = LinearRegression()\n",
    "    modelo.fit(X, y)\n",
    "    y_predict=modelo.predict(X)\n",
    "    result_model=np.sqrt(metrics.mean_squared_error(y,y_predict))\n",
    "    result_default=test_default(df)\n",
    "    return modelo"
   ]
  },
  {
   "cell_type": "code",
   "execution_count": 12,
   "metadata": {},
   "outputs": [],
   "source": [
    "modelos = [ger_model(df) for df in dfs]"
   ]
  },
  {
   "cell_type": "code",
   "execution_count": 13,
   "metadata": {},
   "outputs": [],
   "source": [
    "def do_predict(row):\n",
    "    clar = row['clarity']\n",
    "    X= [[row['carat_log'],row['cut_log'],row['color_log'],row['depth_log'],row['table_log'],row['x_log'],row['y_log'],row['z_log']]]\n",
    "    index = list(clar_lst).index(clar)\n",
    "    model = modelos[index] \n",
    "    y_predict = model.predict(X)\n",
    "    y_predict=np.exp(y_predict)\n",
    "    return y_predict\n",
    " "
   ]
  },
  {
   "cell_type": "code",
   "execution_count": 14,
   "metadata": {},
   "outputs": [
    {
     "data": {
      "text/plain": [
       "0.966"
      ]
     },
     "execution_count": 14,
     "metadata": {},
     "output_type": "execute_result"
    }
   ],
   "source": [
    "y_predict = df.apply(lambda row : do_predict(row), axis=1)\n",
    "y_real = df['price']\n",
    "metrics.r2_score(y_real, y_predict).round(3)"
   ]
  },
  {
   "cell_type": "code",
   "execution_count": 15,
   "metadata": {},
   "outputs": [
    {
     "data": {
      "text/plain": [
       "740.9133966289618"
      ]
     },
     "execution_count": 15,
     "metadata": {},
     "output_type": "execute_result"
    }
   ],
   "source": [
    "np.sqrt(metrics.mean_squared_error(y_real,y_predict))"
   ]
  },
  {
   "cell_type": "code",
   "execution_count": 16,
   "metadata": {},
   "outputs": [],
   "source": [
    "rick_diamonds = pd.read_csv('rick_diamonds.csv')\n",
    "rick_copy = rick_diamonds.copy()\n",
    "rick_copy = create_log_columns(rick_copy,0)\n",
    "y_predict = rick_copy.apply(lambda row : do_predict(row)[0], axis=1)\n",
    "rick_diamonds['price_predicted'] = y_predict\n",
    "rick_diamonds.to_csv('./Deliverables/rick_diamonds_mean.csv')"
   ]
  }
 ],
 "metadata": {
  "hide_input": false,
  "kernelspec": {
   "display_name": "Python 3",
   "language": "python",
   "name": "python3"
  },
  "language_info": {
   "codemirror_mode": {
    "name": "ipython",
    "version": 3
   },
   "file_extension": ".py",
   "mimetype": "text/x-python",
   "name": "python",
   "nbconvert_exporter": "python",
   "pygments_lexer": "ipython3",
   "version": "3.7.4"
  },
  "toc": {
   "base_numbering": 1,
   "nav_menu": {},
   "number_sections": true,
   "sideBar": true,
   "skip_h1_title": false,
   "title_cell": "Table of Contents",
   "title_sidebar": "Contents",
   "toc_cell": false,
   "toc_position": {},
   "toc_section_display": true,
   "toc_window_display": false
  },
  "varInspector": {
   "cols": {
    "lenName": 16,
    "lenType": 16,
    "lenVar": 40
   },
   "kernels_config": {
    "python": {
     "delete_cmd_postfix": "",
     "delete_cmd_prefix": "del ",
     "library": "var_list.py",
     "varRefreshCmd": "print(var_dic_list())"
    },
    "r": {
     "delete_cmd_postfix": ") ",
     "delete_cmd_prefix": "rm(",
     "library": "var_list.r",
     "varRefreshCmd": "cat(var_dic_list()) "
    }
   },
   "types_to_exclude": [
    "module",
    "function",
    "builtin_function_or_method",
    "instance",
    "_Feature"
   ],
   "window_display": false
  }
 },
 "nbformat": 4,
 "nbformat_minor": 2
}
