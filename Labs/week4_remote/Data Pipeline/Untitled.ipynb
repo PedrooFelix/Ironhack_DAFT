{
 "cells": [
  {
   "cell_type": "code",
   "execution_count": 2,
   "metadata": {},
   "outputs": [],
   "source": [
    "import pandas as pd\n",
    "import requests \n",
    "from bs4 import BeautifulSoup\n",
    "import re\n",
    "import numpy as np\n",
    "from selenium import webdriver\n",
    "import time\n",
    "from selenium.webdriver.support.ui import Select, WebDriverWait\n",
    "from selenium.webdriver.support import expected_conditions as EC\n",
    "from selenium.webdriver.common.by import By\n",
    "import time"
   ]
  },
  {
   "cell_type": "code",
   "execution_count": 3,
   "metadata": {
    "code_folding": []
   },
   "outputs": [],
   "source": [
    "def abrir_site():\n",
    "    url = 'https://www.superabc.com.br/'\n",
    "    driver = webdriver.Chrome(executable_path='C:/Users/pedro/selenium/chromedriver.exe')\n",
    "    driver.maximize_window()\n",
    "    driver.get(url)\n",
    "    Select(driver.find_element_by_xpath('//*[@id=\"preHomeCidade\"]')).select_by_value(\"Divinópolis\")\n",
    "    driver.get(url)\n",
    "    elem = driver.find_element_by_xpath('//*[@id=\"popupCorona\"]/span')\n",
    "    elem.click()\n",
    "    time.sleep(2)\n",
    "    return driver"
   ]
  },
  {
   "cell_type": "code",
   "execution_count": 4,
   "metadata": {
    "code_folding": []
   },
   "outputs": [],
   "source": [
    "def carregar_mais():\n",
    "    while True:\n",
    "        try:\n",
    "            wait = WebDriverWait(driver, 3)\n",
    "            element = wait.until(EC.element_to_be_clickable((By.XPATH, '//*[@id=\"carregar-mais\"]')))\n",
    "            element.click()\n",
    "            time.sleep(2)\n",
    "        except:\n",
    "            break"
   ]
  },
  {
   "cell_type": "code",
   "execution_count": 2,
   "metadata": {},
   "outputs": [
    {
     "data": {
      "text/plain": [
       "'7891962036212'"
      ]
     },
     "execution_count": 2,
     "metadata": {},
     "output_type": "execute_result"
    }
   ],
   "source": [
    "import re\n",
    "x = 'https://abcemcasa.vteximg.com.br/arquivos/ids/274822-1000-1000/7891962036212.jpg?v=637182402114630000'\n",
    "ean = re.findall(r'(\\d+)', re.findall(r'/\\d+.jpg', x)[0])[0]\n",
    "ean"
   ]
  },
  {
   "cell_type": "code",
   "execution_count": 5,
   "metadata": {
    "code_folding": []
   },
   "outputs": [],
   "source": [
    "def get_cat_I():\n",
    "    driver = abrir_site()\n",
    "    elem = driver.find_element_by_xpath('/html/body/div[2]/div/header/div/div[1]/div[2]/div[1]/button')\n",
    "    elem.click()\n",
    "    html = driver.page_source\n",
    "    soup = BeautifulSoup(html)\n",
    "    cat_raiz = soup.find_all('div', {'class':'menu-fixo-link'})\n",
    "    cat_raiz = [item.find('a')['href'] for item in cat_raiz if len(item.find('a')['href'].split('/')) == 4]\n",
    "    driver.quit()\n",
    "    return cat_raiz"
   ]
  },
  {
   "cell_type": "code",
   "execution_count": 6,
   "metadata": {
    "code_folding": []
   },
   "outputs": [],
   "source": [
    "def get_cat_II(cat_I):\n",
    "    driver = abrir_site()\n",
    "    driver.get(cat_I)\n",
    "    time.sleep(1)\n",
    "    elem = driver.find_element_by_xpath('/html/body/div[2]/div/main/div[1]/div[2]/div/div/div[1]/button')\n",
    "    elem.click()\n",
    "    html = driver.page_source\n",
    "    soup = BeautifulSoup(html)\n",
    "    soup = soup.find_all('h4', {'class':'mercearia even'})\n",
    "    links = [item.find('a')['href'] for item in soup]\n",
    "    driver.quit()\n",
    "    return links"
   ]
  },
  {
   "cell_type": "code",
   "execution_count": 7,
   "metadata": {
    "code_folding": []
   },
   "outputs": [],
   "source": [
    "def get_product_links(cat_II):\n",
    "    driver = abrir_site()\n",
    "    driver.get(cat_II)\n",
    "    time.sleep(1)\n",
    "    while True:\n",
    "        try:\n",
    "            wait = WebDriverWait(driver, 3)\n",
    "            element = wait.until(EC.element_to_be_clickable((By.XPATH, '//*[@id=\"carregar-mais\"]')))\n",
    "            element.click()\n",
    "            time.sleep(2)\n",
    "        except:\n",
    "            break\n",
    "    html = driver.page_source\n",
    "    soup = BeautifulSoup(html)\n",
    "    links = soup.find_all('a', {'class':'prateleira__name'})\n",
    "    links = [item['href'] for item in links]\n",
    "    driver.quit()\n",
    "    return links"
   ]
  },
  {
   "cell_type": "code",
   "execution_count": 8,
   "metadata": {},
   "outputs": [],
   "source": [
    "cat_I_lst = get_cat_I()"
   ]
  },
  {
   "cell_type": "code",
   "execution_count": 9,
   "metadata": {},
   "outputs": [
    {
     "data": {
      "text/plain": [
       "['http://www.superabc.com.br/mercearia',\n",
       " 'http://www.superabc.com.br/bebidas',\n",
       " 'http://www.superabc.com.br/carnes-e-pescados',\n",
       " 'http://www.superabc.com.br/congelados-e-resfriados',\n",
       " 'http://www.superabc.com.br/frios-e-laticinios',\n",
       " 'http://www.superabc.com.br/padaria',\n",
       " 'http://www.superabc.com.br/hortifruti',\n",
       " 'http://www.superabc.com.br/higiene-e-beleza',\n",
       " 'http://www.superabc.com.br/limpeza',\n",
       " 'http://www.superabc.com.br/bazar',\n",
       " 'http://www.superabc.com.br/pet-shop']"
      ]
     },
     "execution_count": 9,
     "metadata": {},
     "output_type": "execute_result"
    }
   ],
   "source": [
    "cat_I_lst"
   ]
  },
  {
   "cell_type": "code",
   "execution_count": 11,
   "metadata": {},
   "outputs": [],
   "source": [
    "from multiprocess import Pool\n",
    "pool = Pool(processes=4)\n",
    "results = [pool.apply_async(get_cat_II, args=(x,)) for x in cat_I_lst]\n",
    "pool.terminate()"
   ]
  },
  {
   "cell_type": "code",
   "execution_count": 8,
   "metadata": {},
   "outputs": [],
   "source": [
    "driver = abrir_site()\n",
    "driver.get('http://www.superabc.com.br/bebidas')\n",
    "time.sleep(1)\n",
    "elem = driver.find_element_by_xpath('/html/body/div[2]/div/main/div[1]/div[2]/div/div/div[1]/button')\n",
    "elem.click()\n",
    "html = driver.page_source\n",
    "soup = BeautifulSoup(html)"
   ]
  }
 ],
 "metadata": {
  "hide_input": false,
  "kernelspec": {
   "display_name": "Python 3",
   "language": "python",
   "name": "python3"
  },
  "language_info": {
   "codemirror_mode": {
    "name": "ipython",
    "version": 3
   },
   "file_extension": ".py",
   "mimetype": "text/x-python",
   "name": "python",
   "nbconvert_exporter": "python",
   "pygments_lexer": "ipython3",
   "version": "3.7.4"
  },
  "toc": {
   "base_numbering": 1,
   "nav_menu": {},
   "number_sections": true,
   "sideBar": true,
   "skip_h1_title": false,
   "title_cell": "Table of Contents",
   "title_sidebar": "Contents",
   "toc_cell": false,
   "toc_position": {},
   "toc_section_display": true,
   "toc_window_display": false
  },
  "varInspector": {
   "cols": {
    "lenName": 16,
    "lenType": 16,
    "lenVar": 40
   },
   "kernels_config": {
    "python": {
     "delete_cmd_postfix": "",
     "delete_cmd_prefix": "del ",
     "library": "var_list.py",
     "varRefreshCmd": "print(var_dic_list())"
    },
    "r": {
     "delete_cmd_postfix": ") ",
     "delete_cmd_prefix": "rm(",
     "library": "var_list.r",
     "varRefreshCmd": "cat(var_dic_list()) "
    }
   },
   "types_to_exclude": [
    "module",
    "function",
    "builtin_function_or_method",
    "instance",
    "_Feature"
   ],
   "window_display": false
  }
 },
 "nbformat": 4,
 "nbformat_minor": 2
}
