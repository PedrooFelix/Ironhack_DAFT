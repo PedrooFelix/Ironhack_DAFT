{
 "cells": [
  {
   "cell_type": "code",
   "execution_count": 11,
   "metadata": {},
   "outputs": [],
   "source": [
    "import requests\n",
    "from bs4 import BeautifulSoup\n",
    "import pandas as pd\n",
    "import re"
   ]
  },
  {
   "cell_type": "code",
   "execution_count": 21,
   "metadata": {},
   "outputs": [
    {
     "data": {
      "text/plain": [
       "[]"
      ]
     },
     "execution_count": 21,
     "metadata": {},
     "output_type": "execute_result"
    }
   ],
   "source": [
    "url = 'https://www.superabc.com.br/batata-palha-visconti-extra-fina-120g/p'\n",
    "html = requests.get(url).content\n",
    "soup = BeautifulSoup(html, 'lxml')\n",
    "#categorias = soup.find_all('li', {'itemprop':'itemListElement'})\n",
    "categorias = soup.find_all('li', {'typeof':'v:Breadcrumb'})\n",
    "categorias"
   ]
  },
  {
   "cell_type": "code",
   "execution_count": 25,
   "metadata": {},
   "outputs": [
    {
     "name": "stdout",
     "output_type": "stream",
     "text": [
      "https://abcemcasa.vteximg.com.br/arquivos/ids/241782-1000-1000/file-de-tilapia-saca-rolhas-emporium1-aa353542d39baf633c15399734666784-1024-1024.jpg?v=636941417903700000\n"
     ]
    },
    {
     "data": {
      "text/html": [
       "<div>\n",
       "<style scoped>\n",
       "    .dataframe tbody tr th:only-of-type {\n",
       "        vertical-align: middle;\n",
       "    }\n",
       "\n",
       "    .dataframe tbody tr th {\n",
       "        vertical-align: top;\n",
       "    }\n",
       "\n",
       "    .dataframe thead th {\n",
       "        text-align: right;\n",
       "    }\n",
       "</style>\n",
       "<table border=\"1\" class=\"dataframe\">\n",
       "  <thead>\n",
       "    <tr style=\"text-align: right;\">\n",
       "      <th></th>\n",
       "      <th>link</th>\n",
       "      <th>ean</th>\n",
       "      <th>cat_I</th>\n",
       "      <th>cat_II</th>\n",
       "      <th>cat_III</th>\n",
       "      <th>descricao</th>\n",
       "      <th>preco</th>\n",
       "      <th>imagem_link</th>\n",
       "    </tr>\n",
       "  </thead>\n",
       "  <tbody>\n",
       "    <tr>\n",
       "      <th>0</th>\n",
       "      <td>https://www.superabc.com.br/7898921567749peixe...</td>\n",
       "      <td>7898921567749</td>\n",
       "      <td>Carnes e Pescados</td>\n",
       "      <td>Pescados</td>\n",
       "      <td>Peixe de Água Doce</td>\n",
       "      <td>PEIXE FILÉ TILAPIA BEM BRASIL 400G - UNIDADE</td>\n",
       "      <td>13.9</td>\n",
       "      <td>https://abcemcasa.vteximg.com.br/arquivos/ids/...</td>\n",
       "    </tr>\n",
       "  </tbody>\n",
       "</table>\n",
       "</div>"
      ],
      "text/plain": [
       "                                                link            ean  \\\n",
       "0  https://www.superabc.com.br/7898921567749peixe...  7898921567749   \n",
       "\n",
       "               cat_I    cat_II             cat_III  \\\n",
       "0  Carnes e Pescados  Pescados  Peixe de Água Doce   \n",
       "\n",
       "                                      descricao  preco  \\\n",
       "0  PEIXE FILÉ TILAPIA BEM BRASIL 400G - UNIDADE   13.9   \n",
       "\n",
       "                                         imagem_link  \n",
       "0  https://abcemcasa.vteximg.com.br/arquivos/ids/...  "
      ]
     },
     "execution_count": 25,
     "metadata": {},
     "output_type": "execute_result"
    }
   ],
   "source": [
    "url = 'https://www.superabc.com.br/7898921567749peixe-file-tilapia-bem-brasil-400g/p'\n",
    "html = requests.get(url).content\n",
    "soup = BeautifulSoup(html, 'lxml')\n",
    "categorias = soup.find_all('li', {'typeof':'v:Breadcrumb'})\n",
    "if len(categorias) == 0:\n",
    "    categorias = soup.find_all('li', {'itemprop':'itemListElement'})\n",
    "categorias = [item.text for item in categorias if item.text != 'abcemcasa']\n",
    "cat1 = categorias[0]\n",
    "cat2 = categorias[1]\n",
    "cat3 = categorias[2] if len(categorias) == 3 else np.nan\n",
    "descricao = soup.find('h1').text\n",
    "try:\n",
    "    preco = soup.find('strong', {'class':'skuBestPrice'}).text\n",
    "    preco = float(preco.split(' ')[1].replace(',','.'))\n",
    "except:\n",
    "    preco = np.nan\n",
    "imagem = soup.find('div', {'id':'image'}).find('a')['href']\n",
    "print(imagem)\n",
    "try:\n",
    "    ean = re.findall(r'(\\d+)', re.findall(r'/\\d+\\w', url)[0])[0]\n",
    "except:\n",
    "    try:\n",
    "        ean = re.findall(r'(\\d+)', re.findall(r'/\\d+.jpg', imagem)[0])[0]\n",
    "    except:\n",
    "        ean = np.nan\n",
    "data_values = {'ean':ean,\n",
    "                'descricao':descricao,\n",
    "                'preco':preco }\n",
    "df = pd.DataFrame({'link':url,'ean':[ean],'cat_I':[cat1],'cat_II':[cat2],\n",
    "                   'cat_III':[cat3],'descricao':[descricao],'preco':[preco],'imagem_link':[imagem] })\n",
    "df"
   ]
  }
 ],
 "metadata": {
  "hide_input": false,
  "kernelspec": {
   "display_name": "Python 3",
   "language": "python",
   "name": "python3"
  },
  "language_info": {
   "codemirror_mode": {
    "name": "ipython",
    "version": 3
   },
   "file_extension": ".py",
   "mimetype": "text/x-python",
   "name": "python",
   "nbconvert_exporter": "python",
   "pygments_lexer": "ipython3",
   "version": "3.7.4"
  },
  "toc": {
   "base_numbering": 1,
   "nav_menu": {},
   "number_sections": true,
   "sideBar": true,
   "skip_h1_title": false,
   "title_cell": "Table of Contents",
   "title_sidebar": "Contents",
   "toc_cell": false,
   "toc_position": {},
   "toc_section_display": true,
   "toc_window_display": false
  },
  "varInspector": {
   "cols": {
    "lenName": 16,
    "lenType": 16,
    "lenVar": 40
   },
   "kernels_config": {
    "python": {
     "delete_cmd_postfix": "",
     "delete_cmd_prefix": "del ",
     "library": "var_list.py",
     "varRefreshCmd": "print(var_dic_list())"
    },
    "r": {
     "delete_cmd_postfix": ") ",
     "delete_cmd_prefix": "rm(",
     "library": "var_list.r",
     "varRefreshCmd": "cat(var_dic_list()) "
    }
   },
   "types_to_exclude": [
    "module",
    "function",
    "builtin_function_or_method",
    "instance",
    "_Feature"
   ],
   "window_display": false
  }
 },
 "nbformat": 4,
 "nbformat_minor": 2
}
