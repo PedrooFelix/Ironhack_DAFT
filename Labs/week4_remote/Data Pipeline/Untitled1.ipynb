{
 "cells": [
  {
   "cell_type": "code",
   "execution_count": 49,
   "metadata": {},
   "outputs": [],
   "source": [
    "#from functions import abrir_site, carregar_mais, get_cat_I, get_cat_II, get_product_links\n",
    "import requests\n",
    "from bs4 import BeautifulSoup\n",
    "import re\n",
    "import pandas\n",
    "import numpy as np"
   ]
  },
  {
   "cell_type": "code",
   "execution_count": 164,
   "metadata": {
    "scrolled": true
   },
   "outputs": [
    {
     "name": "stderr",
     "output_type": "stream",
     "text": [
      "C:\\Users\\pedro\\Ironhack_DAFT\\Labs\\week4_remote\\Data Pipeline\\functions.py:40: UserWarning: No parser was explicitly specified, so I'm using the best available HTML parser for this system (\"lxml\"). This usually isn't a problem, but if you run this code on another system, or in a different virtual environment, it may use a different parser and behave differently.\n",
      "\n",
      "The code that caused this warning is on line 40 of the file C:\\Users\\pedro\\Ironhack_DAFT\\Labs\\week4_remote\\Data Pipeline\\functions.py. To get rid of this warning, pass the additional argument 'features=\"lxml\"' to the BeautifulSoup constructor.\n",
      "\n",
      "  soup = BeautifulSoup(html)\n"
     ]
    }
   ],
   "source": [
    "cat_I_lst = get_cat_I()"
   ]
  },
  {
   "cell_type": "code",
   "execution_count": 165,
   "metadata": {},
   "outputs": [],
   "source": [
    "from multiprocessing import Pool\n",
    "pool = Pool(processes=4)\n",
    "result = pool.map(get_cat_II, cat_I_lst)\n",
    "pool.terminate()"
   ]
  },
  {
   "cell_type": "code",
   "execution_count": 166,
   "metadata": {},
   "outputs": [
    {
     "data": {
      "text/plain": [
       "[['https://www.superabc.com.br/mercearia/biscoitos-e-salgadinhos?PS=20',\n",
       "  'https://www.superabc.com.br/mercearia/bomboniere?PS=20',\n",
       "  'https://www.superabc.com.br/mercearia/funcionais-diet-e-light?PS=20',\n",
       "  'https://www.superabc.com.br/mercearia/matinais?PS=20',\n",
       "  'https://www.superabc.com.br/mercearia/cereais-oleos-e-azeites?PS=20',\n",
       "  'https://www.superabc.com.br/mercearia/alimentos-infantis?PS=20',\n",
       "  'https://www.superabc.com.br/mercearia/conservas-e-enlatados?PS=20',\n",
       "  'https://www.superabc.com.br/mercearia/doces-e-sobremesa?PS=20',\n",
       "  'https://www.superabc.com.br/mercearia/graos-e-farinaceos?PS=20',\n",
       "  'https://www.superabc.com.br/mercearia/massas?PS=20',\n",
       "  'https://www.superabc.com.br/mercearia'],\n",
       " ['https://www.superabc.com.br/bebidas/vinhos-e-espumantes?PS=20',\n",
       "  'https://www.superabc.com.br/bebidas/cervejas?PS=20',\n",
       "  'https://www.superabc.com.br/bebidas/sucos-refrescos-e-refrigerantes?PS=20',\n",
       "  'https://www.superabc.com.br/bebidas/whisky?PS=20',\n",
       "  'https://www.superabc.com.br/bebidas/destilados?PS=20',\n",
       "  'https://www.superabc.com.br/bebidas/energeticos-e-isotonicos?PS=20',\n",
       "  'https://www.superabc.com.br/bebidas/aguas-e-chas?PS=20',\n",
       "  'https://www.superabc.com.br/bebidas'],\n",
       " ['https://www.superabc.com.br/carnes-e-pescados/bovinas?PS=20',\n",
       "  'https://www.superabc.com.br/carnes-e-pescados/suinas?PS=20',\n",
       "  'https://www.superabc.com.br/carnes-e-pescados/pescados?PS=20',\n",
       "  'https://www.superabc.com.br/carnes-e-pescados/embutidos?PS=20',\n",
       "  'https://www.superabc.com.br/carnes-e-pescados'],\n",
       " ['https://www.superabc.com.br/congelados-e-resfriados/pratos-prontos?PS=20',\n",
       "  'https://www.superabc.com.br/congelados-e-resfriados/legumes-e-vegetais-congelados?PS=20',\n",
       "  'https://www.superabc.com.br/congelados-e-resfriados/sucos-polpas-e-acais?PS=20',\n",
       "  'https://www.superabc.com.br/congelados-e-resfriados/aves?PS=20',\n",
       "  'https://www.superabc.com.br/congelados-e-resfriados/petiscos-e-empanados?PS=20',\n",
       "  'https://www.superabc.com.br/congelados-e-resfriados/sobremesas-e-sorvetes?PS=20',\n",
       "  'https://www.superabc.com.br/congelados-e-resfriados'],\n",
       " ['https://www.superabc.com.br/frios-e-laticinios/lacteos?PS=20',\n",
       "  'https://www.superabc.com.br/frios-e-laticinios/margarinas-e-hidrogenados?PS=20',\n",
       "  'https://www.superabc.com.br/frios-e-laticinios/leites?PS=20',\n",
       "  'https://www.superabc.com.br/frios-e-laticinios/queijos?PS=20',\n",
       "  'https://www.superabc.com.br/frios-e-laticinios/requeijao?PS=20',\n",
       "  'https://www.superabc.com.br/frios-e-laticinios/manteigas?PS=20',\n",
       "  'https://www.superabc.com.br/frios-e-laticinios'],\n",
       " ['https://www.superabc.com.br/padaria/confeitaria?PS=20',\n",
       "  'https://www.superabc.com.br/padaria/paes-especiais?PS=20',\n",
       "  'https://www.superabc.com.br/padaria/pizzas-e-sanduiches?PS=20',\n",
       "  'https://www.superabc.com.br/padaria/doces-e-sobremesas?PS=20',\n",
       "  'https://www.superabc.com.br/padaria/paes-bolos-e-roscas?PS=20',\n",
       "  'https://www.superabc.com.br/padaria/paes-industrializados?PS=20',\n",
       "  'https://www.superabc.com.br/padaria/panettones?PS=20',\n",
       "  'https://www.superabc.com.br/padaria'],\n",
       " ['https://www.superabc.com.br/hortifruti/frutas?PS=20',\n",
       "  'https://www.superabc.com.br/hortifruti/organicos?PS=20',\n",
       "  'https://www.superabc.com.br/hortifruti/processados-e-selecionados?PS=20',\n",
       "  'https://www.superabc.com.br/hortifruti/ovos?PS=20',\n",
       "  'https://www.superabc.com.br/hortifruti/flores-e-plantas?PS=20',\n",
       "  'https://www.superabc.com.br/hortifruti/hortalicas?PS=20',\n",
       "  'https://www.superabc.com.br/hortifruti'],\n",
       " ['https://www.superabc.com.br/higiene-e-beleza/cabelos?PS=20',\n",
       "  'https://www.superabc.com.br/higiene-e-beleza/higiene-pessoal?PS=20',\n",
       "  'https://www.superabc.com.br/higiene-e-beleza/fraldas?PS=20',\n",
       "  'https://www.superabc.com.br/higiene-e-beleza/maquiagem?PS=20',\n",
       "  'https://www.superabc.com.br/higiene-e-beleza/papel-higienico?PS=20',\n",
       "  'https://www.superabc.com.br/higiene-e-beleza/infantil?PS=20',\n",
       "  'https://www.superabc.com.br/higiene-e-beleza/higiene-oral?PS=20',\n",
       "  'https://www.superabc.com.br/higiene-e-beleza/saude-e-bem-estar?PS=20',\n",
       "  'https://www.superabc.com.br/higiene-e-beleza'],\n",
       " ['https://www.superabc.com.br/limpeza/inseticidas-e-repelentes?PS=20',\n",
       "  'https://www.superabc.com.br/limpeza/ceras-e-desinfetantes?PS=20',\n",
       "  'https://www.superabc.com.br/limpeza/alvejantes-e-amaciantes?PS=20',\n",
       "  'https://www.superabc.com.br/limpeza/detergentes?PS=20',\n",
       "  'https://www.superabc.com.br/limpeza/limpadores-e-purificadores?PS=20',\n",
       "  'https://www.superabc.com.br/limpeza/sabao-em-pasta-e-barra?PS=20',\n",
       "  'https://www.superabc.com.br/limpeza'],\n",
       " ['https://www.superabc.com.br/bazar/brinquedos?PS=20',\n",
       "  'https://www.superabc.com.br/bazar/camping-e-esporte?PS=20',\n",
       "  'https://www.superabc.com.br/bazar/cama-mesa-e-banho?PS=20',\n",
       "  'https://www.superabc.com.br/bazar/casa-e-cozinha?PS=20',\n",
       "  'https://www.superabc.com.br/bazar/roupas-e-calcados?PS=20',\n",
       "  'https://www.superabc.com.br/bazar/casa-e-construcao?PS=20',\n",
       "  'https://www.superabc.com.br/bazar/conveniencias?PS=20',\n",
       "  'https://www.superabc.com.br/bazar/eletroportateis?PS=20',\n",
       "  'https://www.superabc.com.br/bazar/embalagens-e-descartaveis?PS=20',\n",
       "  'https://www.superabc.com.br/bazar/jardinagem?PS=20',\n",
       "  'https://www.superabc.com.br/bazar/papelaria-e-festas?PS=20',\n",
       "  'https://www.superabc.com.br/bazar/automotivos?PS=20',\n",
       "  'https://www.superabc.com.br/bazar'],\n",
       " ['https://www.superabc.com.br/pet-shop/brinquedos-e-acessorios?PS=20',\n",
       "  'https://www.superabc.com.br/pet-shop/caes?PS=20',\n",
       "  'https://www.superabc.com.br/pet-shop/gatos?PS=20',\n",
       "  'https://www.superabc.com.br/pet-shop/aves?PS=20',\n",
       "  'https://www.superabc.com.br/pet-shop']]"
      ]
     },
     "execution_count": 166,
     "metadata": {},
     "output_type": "execute_result"
    }
   ],
   "source": [
    "result"
   ]
  },
  {
   "cell_type": "code",
   "execution_count": 148,
   "metadata": {},
   "outputs": [],
   "source": [
    "def get_product_data(url):\n",
    "    html = requests.get(url).content\n",
    "    soup = BeautifulSoup(html, 'lxml')\n",
    "    categorias = soup.find_all('li', {'typeof':'v:Breadcrumb'})\n",
    "    categorias = [item.text for item in categorias if item.text != 'abcemcasa']\n",
    "    cat1 = categorias[0]\n",
    "    cat2 = categorias[1]\n",
    "    cat3 = categorias[2] if len(categorias) == 3 else np.nan\n",
    "    descricao = soup.find('h1').text\n",
    "    try:\n",
    "        preco = soup.find('strong', {'class':'skuBestPrice'}).text\n",
    "        preco = float(preco.split(' ')[1].replace(',','.'))\n",
    "    except:\n",
    "        preco = np.nan\n",
    "    imagem = soup.find('div', {'id':'image'}).find('a')['href']\n",
    "    ean = re.findall(r'(\\d+)', re.findall(r'/\\d+\\w', url)[0])[0]\n",
    "    \n",
    "    return (categorias,descricao,preco,ean)"
   ]
  },
  {
   "cell_type": "code",
   "execution_count": 162,
   "metadata": {},
   "outputs": [
    {
     "data": {
      "text/plain": [
       "['https://www.superabc.com.br/mercearia/biscoitos-e-salgadinhos?PS=20',\n",
       " 'https://www.superabc.com.br/mercearia/bomboniere?PS=20',\n",
       " 'https://www.superabc.com.br/mercearia/funcionais-diet-e-light?PS=20',\n",
       " 'https://www.superabc.com.br/mercearia/matinais?PS=20',\n",
       " 'https://www.superabc.com.br/mercearia/cereais-oleos-e-azeites?PS=20',\n",
       " 'https://www.superabc.com.br/mercearia/alimentos-infantis?PS=20',\n",
       " 'https://www.superabc.com.br/mercearia/conservas-e-enlatados?PS=20',\n",
       " 'https://www.superabc.com.br/mercearia/doces-e-sobremesa?PS=20',\n",
       " 'https://www.superabc.com.br/mercearia/graos-e-farinaceos?PS=20',\n",
       " 'https://www.superabc.com.br/mercearia/massas?PS=20',\n",
       " 'https://www.superabc.com.br/mercearia',\n",
       " 'https://www.superabc.com.br/bebidas/vinhos-e-espumantes?PS=20',\n",
       " 'https://www.superabc.com.br/bebidas/cervejas?PS=20',\n",
       " 'https://www.superabc.com.br/bebidas/sucos-refrescos-e-refrigerantes?PS=20',\n",
       " 'https://www.superabc.com.br/bebidas/whisky?PS=20',\n",
       " 'https://www.superabc.com.br/bebidas/destilados?PS=20',\n",
       " 'https://www.superabc.com.br/bebidas/energeticos-e-isotonicos?PS=20',\n",
       " 'https://www.superabc.com.br/bebidas/aguas-e-chas?PS=20',\n",
       " 'https://www.superabc.com.br/bebidas',\n",
       " 'https://www.superabc.com.br/carnes-e-pescados/bovinas?PS=20',\n",
       " 'https://www.superabc.com.br/carnes-e-pescados/suinas?PS=20',\n",
       " 'https://www.superabc.com.br/carnes-e-pescados/pescados?PS=20',\n",
       " 'https://www.superabc.com.br/carnes-e-pescados/embutidos?PS=20',\n",
       " 'https://www.superabc.com.br/carnes-e-pescados',\n",
       " 'https://www.superabc.com.br/congelados-e-resfriados/pratos-prontos?PS=20',\n",
       " 'https://www.superabc.com.br/congelados-e-resfriados/legumes-e-vegetais-congelados?PS=20',\n",
       " 'https://www.superabc.com.br/congelados-e-resfriados/sucos-polpas-e-acais?PS=20',\n",
       " 'https://www.superabc.com.br/congelados-e-resfriados/aves?PS=20',\n",
       " 'https://www.superabc.com.br/congelados-e-resfriados/petiscos-e-empanados?PS=20',\n",
       " 'https://www.superabc.com.br/congelados-e-resfriados/sobremesas-e-sorvetes?PS=20',\n",
       " 'https://www.superabc.com.br/congelados-e-resfriados',\n",
       " 'https://www.superabc.com.br/frios-e-laticinios/lacteos?PS=20',\n",
       " 'https://www.superabc.com.br/frios-e-laticinios/margarinas-e-hidrogenados?PS=20',\n",
       " 'https://www.superabc.com.br/frios-e-laticinios/leites?PS=20',\n",
       " 'https://www.superabc.com.br/frios-e-laticinios/queijos?PS=20',\n",
       " 'https://www.superabc.com.br/frios-e-laticinios/requeijao?PS=20',\n",
       " 'https://www.superabc.com.br/frios-e-laticinios/manteigas?PS=20',\n",
       " 'https://www.superabc.com.br/frios-e-laticinios',\n",
       " 'https://www.superabc.com.br/padaria/confeitaria?PS=20',\n",
       " 'https://www.superabc.com.br/padaria/paes-especiais?PS=20',\n",
       " 'https://www.superabc.com.br/padaria/pizzas-e-sanduiches?PS=20',\n",
       " 'https://www.superabc.com.br/padaria/doces-e-sobremesas?PS=20',\n",
       " 'https://www.superabc.com.br/padaria/paes-bolos-e-roscas?PS=20',\n",
       " 'https://www.superabc.com.br/padaria/paes-industrializados?PS=20',\n",
       " 'https://www.superabc.com.br/padaria/panettones?PS=20',\n",
       " 'https://www.superabc.com.br/padaria',\n",
       " 'https://www.superabc.com.br/hortifruti/frutas?PS=20',\n",
       " 'https://www.superabc.com.br/hortifruti/organicos?PS=20',\n",
       " 'https://www.superabc.com.br/hortifruti/processados-e-selecionados?PS=20',\n",
       " 'https://www.superabc.com.br/hortifruti/ovos?PS=20',\n",
       " 'https://www.superabc.com.br/hortifruti/flores-e-plantas?PS=20',\n",
       " 'https://www.superabc.com.br/hortifruti/hortalicas?PS=20',\n",
       " 'https://www.superabc.com.br/hortifruti',\n",
       " 'https://www.superabc.com.br/higiene-e-beleza/cabelos?PS=20',\n",
       " 'https://www.superabc.com.br/higiene-e-beleza/higiene-pessoal?PS=20',\n",
       " 'https://www.superabc.com.br/higiene-e-beleza/fraldas?PS=20',\n",
       " 'https://www.superabc.com.br/higiene-e-beleza/maquiagem?PS=20',\n",
       " 'https://www.superabc.com.br/higiene-e-beleza/papel-higienico?PS=20',\n",
       " 'https://www.superabc.com.br/higiene-e-beleza/infantil?PS=20',\n",
       " 'https://www.superabc.com.br/higiene-e-beleza/higiene-oral?PS=20',\n",
       " 'https://www.superabc.com.br/higiene-e-beleza/saude-e-bem-estar?PS=20',\n",
       " 'https://www.superabc.com.br/higiene-e-beleza',\n",
       " 'https://www.superabc.com.br/limpeza/inseticidas-e-repelentes?PS=20',\n",
       " 'https://www.superabc.com.br/limpeza/ceras-e-desinfetantes?PS=20',\n",
       " 'https://www.superabc.com.br/limpeza/alvejantes-e-amaciantes?PS=20',\n",
       " 'https://www.superabc.com.br/limpeza/detergentes?PS=20',\n",
       " 'https://www.superabc.com.br/limpeza/limpadores-e-purificadores?PS=20',\n",
       " 'https://www.superabc.com.br/limpeza/sabao-em-pasta-e-barra?PS=20',\n",
       " 'https://www.superabc.com.br/limpeza',\n",
       " 'https://www.superabc.com.br/bazar/brinquedos?PS=20',\n",
       " 'https://www.superabc.com.br/bazar/camping-e-esporte?PS=20',\n",
       " 'https://www.superabc.com.br/bazar/cama-mesa-e-banho?PS=20',\n",
       " 'https://www.superabc.com.br/bazar/casa-e-cozinha?PS=20',\n",
       " 'https://www.superabc.com.br/bazar/roupas-e-calcados?PS=20',\n",
       " 'https://www.superabc.com.br/bazar/casa-e-construcao?PS=20',\n",
       " 'https://www.superabc.com.br/bazar/conveniencias?PS=20',\n",
       " 'https://www.superabc.com.br/bazar/eletroportateis?PS=20',\n",
       " 'https://www.superabc.com.br/bazar/embalagens-e-descartaveis?PS=20',\n",
       " 'https://www.superabc.com.br/bazar/jardinagem?PS=20',\n",
       " 'https://www.superabc.com.br/bazar/papelaria-e-festas?PS=20',\n",
       " 'https://www.superabc.com.br/bazar/automotivos?PS=20',\n",
       " 'https://www.superabc.com.br/bazar',\n",
       " 'https://www.superabc.com.br/pet-shop/brinquedos-e-acessorios?PS=20',\n",
       " 'https://www.superabc.com.br/pet-shop/caes?PS=20',\n",
       " 'https://www.superabc.com.br/pet-shop/gatos?PS=20',\n",
       " 'https://www.superabc.com.br/pet-shop/aves?PS=20',\n",
       " 'https://www.superabc.com.br/pet-shop']"
      ]
     },
     "execution_count": 162,
     "metadata": {},
     "output_type": "execute_result"
    }
   ],
   "source": [
    "result =[item for cat in result for item in cat]\n",
    "result"
   ]
  }
 ],
 "metadata": {
  "hide_input": false,
  "kernelspec": {
   "display_name": "Python 3",
   "language": "python",
   "name": "python3"
  },
  "language_info": {
   "codemirror_mode": {
    "name": "ipython",
    "version": 3
   },
   "file_extension": ".py",
   "mimetype": "text/x-python",
   "name": "python",
   "nbconvert_exporter": "python",
   "pygments_lexer": "ipython3",
   "version": "3.7.4"
  },
  "toc": {
   "base_numbering": 1,
   "nav_menu": {},
   "number_sections": true,
   "sideBar": true,
   "skip_h1_title": false,
   "title_cell": "Table of Contents",
   "title_sidebar": "Contents",
   "toc_cell": false,
   "toc_position": {},
   "toc_section_display": true,
   "toc_window_display": false
  },
  "varInspector": {
   "cols": {
    "lenName": 16,
    "lenType": 16,
    "lenVar": 40
   },
   "kernels_config": {
    "python": {
     "delete_cmd_postfix": "",
     "delete_cmd_prefix": "del ",
     "library": "var_list.py",
     "varRefreshCmd": "print(var_dic_list())"
    },
    "r": {
     "delete_cmd_postfix": ") ",
     "delete_cmd_prefix": "rm(",
     "library": "var_list.r",
     "varRefreshCmd": "cat(var_dic_list()) "
    }
   },
   "types_to_exclude": [
    "module",
    "function",
    "builtin_function_or_method",
    "instance",
    "_Feature"
   ],
   "window_display": false
  }
 },
 "nbformat": 4,
 "nbformat_minor": 2
}
