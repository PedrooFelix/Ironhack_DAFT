{
 "cells": [
  {
   "cell_type": "markdown",
   "metadata": {},
   "source": [
    "# The SIR Infection Model"
   ]
  },
  {
   "cell_type": "code",
   "execution_count": 81,
   "metadata": {
    "ExecuteTime": {
     "end_time": "2020-03-27T13:47:22.266001Z",
     "start_time": "2020-03-27T13:47:22.263192Z"
    }
   },
   "outputs": [],
   "source": [
    "from ipywidgets import interact"
   ]
  },
  {
   "cell_type": "markdown",
   "metadata": {},
   "source": [
    "## Without animation"
   ]
  },
  {
   "cell_type": "code",
   "execution_count": 133,
   "metadata": {
    "ExecuteTime": {
     "end_time": "2020-03-27T15:05:26.602420Z",
     "start_time": "2020-03-27T15:05:26.461495Z"
    }
   },
   "outputs": [
    {
     "data": {
      "image/png": "[encoded data removed]",
      "text/plain": [
       "<Figure size 720x504 with 1 Axes>"
      ]
     },
     "metadata": {
      "needs_background": "light"
     },
     "output_type": "display_data"
    }
   ],
   "source": [
    "import matplotlib.pyplot as plt\n",
    "import pandas as pd\n",
    "import numpy as np\n",
    "import ipywidgets as widgets\n",
    "\n",
    "# SOURCE:\n",
    "# https://scipython.com/book/chapter-8-scipy/additional-examples/the-sir-epidemic-model/\n",
    "\n",
    "\n",
    "# Total population, N.\n",
    "N = 1000\n",
    "\n",
    "# A grid of time points (in days)\n",
    "t = range(360)\n",
    "\n",
    "# Initial number of infected and recovered individuals, I0 and R0.\n",
    "# S0 is the initial number of suscetible. Everyone else is susceptible to infection.\n",
    "I0 = 1\n",
    "R0 = 0\n",
    "S0 = N - I0 - R0\n",
    "\n",
    "# R is the `basic reproduction number`: how many people, on average, 1 person infects.\n",
    "R = 4\n",
    "\n",
    "# The mean recovery rate in 1/days\n",
    "gamma = 1./10\n",
    "\n",
    "# the time between contacts (in days)\n",
    "beta = R * gamma\n",
    "\n",
    "# The SIR model differential equations.\n",
    "from scipy.integrate import odeint\n",
    "def sir_rates(y, t, N, beta, gamma):\n",
    "    \"\"\"\n",
    "    S = Susceptible\n",
    "    I = Infected\n",
    "    R = Recovered\n",
    "    \"\"\"\n",
    "    S, I, R = y\n",
    "\n",
    "    # The rate of suscetible people deacreses as the number of infected increases (immunity).\n",
    "    dSdt = - (beta / N) * S * I \n",
    "\n",
    "    # rate of infected is proportional to the number of suscetible ones and the number of infected ones.\n",
    "    # the coefficient represents how many people one infects in a specific population\n",
    "    # also, the rate of infected diminishes as a proportion of the rate of recovery increases, hence the second term.\n",
    "    dIdt = (beta / N) * S * I  - gamma * I\n",
    "\n",
    "    # rate of recovered is proportional to the number of infected. \n",
    "    # this proportion coefficient is the rate of recovery in 1/days\n",
    "    dRdt = gamma * I\n",
    "\n",
    "    # returns the rate of susceptible, infected and recovered from infection\n",
    "    return dSdt, dIdt, dRdt\n",
    "\n",
    "# Initial conditions vector\n",
    "y0 = S0, I0, R0\n",
    "\n",
    "# Integration of SIR equations over the time grid, t.\n",
    "integral = odeint(sir_rates, y0, t, args=(N, beta, gamma))\n",
    "S, I, R = integral.T\n",
    "\n",
    "\n",
    "# Plot the data on three separate curves for S(t), I(t) and R(t)\n",
    "fig, ax = plt.subplots(figsize=(10,7))\n",
    "ax.plot(t, I, 'r', alpha=1, lw=3, label='Infected')\n",
    "\n",
    "\n",
    "ax.set_xlabel('Time /days')\n",
    "ax.set_ylabel('Number (1000s)')\n",
    "ax.set_ylim(0,N*.7)\n",
    "ax.yaxis.set_tick_params(length=0)\n",
    "ax.xaxis.set_tick_params(length=0)\n",
    "ax.grid()\n",
    "ax.legend()\n",
    "\n",
    "for spine in ('top', 'right', 'bottom', 'left'):\n",
    "    ax.spines[spine].set_visible(False)\n",
    "\n",
    "plt.show()"
   ]
  },
  {
   "cell_type": "markdown",
   "metadata": {},
   "source": [
    "## With animation (varying R)"
   ]
  },
  {
   "cell_type": "code",
   "execution_count": 134,
   "metadata": {
    "ExecuteTime": {
     "end_time": "2020-03-27T15:05:39.914369Z",
     "start_time": "2020-03-27T15:05:39.752539Z"
    },
    "scrolled": true
   },
   "outputs": [
    {
     "data": {
      "application/vnd.jupyter.widget-view+json": {
       "model_id": "3905e934385444aa85127f45791d2915",
       "version_major": 2,
       "version_minor": 0
      },
      "text/plain": [
       "interactive(children=(IntSlider(value=4, description='r', max=12, min=-4), Output()), _dom_classes=('widget-in…"
      ]
     },
     "metadata": {},
     "output_type": "display_data"
    }
   ],
   "source": [
    "@interact(r = 4)\n",
    "def plot_graph(r):\n",
    "    import matplotlib.pyplot as plt\n",
    "    import pandas as pd\n",
    "    import numpy as np\n",
    "    import ipywidgets as widgets\n",
    "\n",
    "    # SOURCE:\n",
    "    # https://scipython.com/book/chapter-8-scipy/additional-examples/the-sir-epidemic-model/\n",
    "\n",
    "\n",
    "    # Total population, N.\n",
    "    N = 1000\n",
    "\n",
    "    # A grid of time points (in days)\n",
    "    t = range(360)\n",
    "\n",
    "    # Initial number of infected and recovered individuals, I0 and R0.\n",
    "    # S0 is the initial number of suscetible. Everyone else is susceptible to infection.\n",
    "    I0 = 1\n",
    "    R0 = 0\n",
    "    S0 = N - I0 - R0\n",
    "\n",
    "    # R is the `basic reproduction number`: how many people, on average, 1 person infects.\n",
    "    R = r\n",
    "\n",
    "    # The mean recovery rate in 1/days\n",
    "    gamma = 1./10\n",
    "\n",
    "    # the time between contacts (in days)\n",
    "    beta = R * gamma\n",
    "\n",
    "    # The SIR model differential equations.\n",
    "    from scipy.integrate import odeint\n",
    "    def sir_rates(y, t, N, beta, gamma):\n",
    "        \"\"\"\n",
    "        S = Susceptible\n",
    "        I = Infected\n",
    "        R = Recovered\n",
    "        \"\"\"\n",
    "        S, I, R = y\n",
    "\n",
    "        # The rate of suscetible people deacreses as the number of infected increases (immunity).\n",
    "        dSdt = - (beta / N) * S * I \n",
    "\n",
    "        # rate of infected is proportional to the number of suscetible ones and the number of infected ones.\n",
    "        # the coefficient represents how many people one infects in a specific population\n",
    "        # also, the rate of infected diminishes as a proportion of the rate of recovery increases, hence the second term.\n",
    "        dIdt = (beta / N) * S * I  - gamma * I\n",
    "\n",
    "        # rate of recovered is proportional to the number of infected. \n",
    "        # this proportion coefficient is the rate of recovery in 1/days\n",
    "        dRdt = gamma * I\n",
    "\n",
    "        # returns the rate of susceptible, infected and recovered from infection\n",
    "        return dSdt, dIdt, dRdt\n",
    "\n",
    "    # Initial conditions vector\n",
    "    y0 = S0, I0, R0\n",
    "\n",
    "    # Integration of SIR equations over the time grid, t.\n",
    "    integral = odeint(sir_rates, y0, t, args=(N, beta, gamma))\n",
    "    S, I, R = integral.T\n",
    "\n",
    "\n",
    "    # Plot the data on three separate curves for S(t), I(t) and R(t)\n",
    "    fig, ax = plt.subplots(figsize=(10,7))\n",
    "    ax.plot(t, I, 'r', alpha=1, lw=3, label='Infected')\n",
    "\n",
    "\n",
    "    ax.set_xlabel('Time /days')\n",
    "    ax.set_ylabel('Number (1000s)')\n",
    "    ax.set_ylim(0,N*.7)\n",
    "    ax.yaxis.set_tick_params(length=0)\n",
    "    ax.xaxis.set_tick_params(length=0)\n",
    "    ax.grid()\n",
    "    ax.legend()\n",
    "\n",
    "    for spine in ('top', 'right', 'bottom', 'left'):\n",
    "        ax.spines[spine].set_visible(False)\n",
    "\n",
    "    plt.show()"
   ]
  },
  {
   "cell_type": "markdown",
   "metadata": {},
   "source": [
    "# Animations"
   ]
  },
  {
   "cell_type": "code",
   "execution_count": 95,
   "metadata": {
    "ExecuteTime": {
     "end_time": "2020-03-27T14:29:46.128198Z",
     "start_time": "2020-03-27T14:29:46.125230Z"
    }
   },
   "outputs": [],
   "source": [
    "from matplotlib import animation"
   ]
  },
  {
   "cell_type": "markdown",
   "metadata": {},
   "source": [
    "## Animating a sin wave"
   ]
  },
  {
   "cell_type": "code",
   "execution_count": 130,
   "metadata": {
    "ExecuteTime": {
     "end_time": "2020-03-27T15:04:06.714692Z",
     "start_time": "2020-03-27T15:04:05.009675Z"
    }
   },
   "outputs": [
    {
     "name": "stderr",
     "output_type": "stream",
     "text": [
      "MovieWriter imagemagick unavailable. Trying to use pillow instead.\n"
     ]
    },
    {
     "data": {
      "image/png": "[encoded data removed]",
      "text/plain": [
       "<Figure size 432x288 with 1 Axes>"
      ]
     },
     "metadata": {
      "needs_background": "light"
     },
     "output_type": "display_data"
    }
   ],
   "source": [
    "fig, ax = plt.subplots()\n",
    "\n",
    "TWOPI = 3.14 * 2\n",
    "t = np.arange(0.0, TWOPI, 0.001)\n",
    "s = np.sin(t)\n",
    "l = plt.plot(t, s)\n",
    "\n",
    "# initial plot\n",
    "my_plot = plt.plot([0], [np.sin(0)], 'ro')[0]\n",
    "\n",
    "# Create the function that you want to animate.\n",
    "def animate(i):\n",
    "    my_plot.set_data(i, np.sin(i))\n",
    "    return [my_plot]\n",
    "\n",
    "# create animation using the animate() function with no repeat\n",
    "myAnimation = animation.FuncAnimation(fig, animate, frames=np.arange(0.0, TWOPI, 0.1), \\\n",
    "                                      interval=10, blit=True, repeat=False)\n",
    "\n",
    "# save animation at 30 frames per second \n",
    "myAnimation.save('myAnimation.gif', writer='imagemagick', fps=30)"
   ]
  },
  {
   "cell_type": "markdown",
   "metadata": {},
   "source": [
    "## Animating the SIR Model"
   ]
  },
  {
   "cell_type": "code",
   "execution_count": 131,
   "metadata": {
    "ExecuteTime": {
     "end_time": "2020-03-27T15:04:41.457961Z",
     "start_time": "2020-03-27T15:04:39.590403Z"
    }
   },
   "outputs": [
    {
     "name": "stderr",
     "output_type": "stream",
     "text": [
      "MovieWriter imagemagick unavailable. Trying to use pillow instead.\n"
     ]
    },
    {
     "data": {
      "image/png": "[encoded data removed]",
      "text/plain": [
       "<Figure size 720x504 with 1 Axes>"
      ]
     },
     "metadata": {
      "needs_background": "light"
     },
     "output_type": "display_data"
    }
   ],
   "source": [
    "fig, ax = plt.subplots(figsize=(10,7))\n",
    "my_plot = ax.plot([], [])[0]\n",
    "\n",
    "def animate(r):\n",
    "    import matplotlib.pyplot as plt\n",
    "    import pandas as pd\n",
    "    import numpy as np\n",
    "    import ipywidgets as widgets\n",
    "    ax = my_plot.axes\n",
    "    ax.clear()\n",
    "    # https://scipython.com/book/chapter-8-scipy/additional-examples/the-sir-epidemic-model/\n",
    "\n",
    "\n",
    "    # Total population, N.\n",
    "    N = 1000\n",
    "\n",
    "    # A grid of time points (in days)\n",
    "    t = range(360)\n",
    "\n",
    "    # Initial number of infected and recovered individuals, I0 and R0.\n",
    "    # S0 is the initial number of suscetible. Everyone else is susceptible to infection.\n",
    "    I0 = 1\n",
    "    R0 = 0\n",
    "    S0 = N - I0 - R0\n",
    "\n",
    "    # R is the `basic reproduction number`: how many people, on average, 1 person infects.\n",
    "    R = r\n",
    "\n",
    "    # The mean recovery rate in 1/days\n",
    "    gamma = 1./10\n",
    "\n",
    "    # the time between contacts (in days)\n",
    "    beta = R * gamma\n",
    "\n",
    "    # The SIR model differential equations.\n",
    "    from scipy.integrate import odeint\n",
    "    def sir_rates(y, t, N, beta, gamma):\n",
    "        \"\"\"\n",
    "        S = Susceptible\n",
    "        I = Infected\n",
    "        R = Recovered\n",
    "        \"\"\"\n",
    "        S, I, R = y\n",
    "\n",
    "        # The rate of suscetible people deacreses as the number of infected increases (immunity).\n",
    "        dSdt = - (beta / N) * S * I \n",
    "\n",
    "        # rate of infected is proportional to the number of suscetible ones and the number of infected ones.\n",
    "        # the coefficient represents how many people one infects in a specific population\n",
    "        # also, the rate of infected diminishes as a proportion of the rate of recovery increases, hence the second term.\n",
    "        dIdt = (beta / N) * S * I  - gamma * I\n",
    "\n",
    "        # rate of recovered is proportional to the number of infected. \n",
    "        # this proportion coefficient is the rate of recovery in 1/days\n",
    "        dRdt = gamma * I\n",
    "\n",
    "        # returns the rate of susceptible, infected and recovered from infection\n",
    "        return dSdt, dIdt, dRdt\n",
    "\n",
    "    # Initial conditions vector\n",
    "    y0 = S0, I0, R0\n",
    "\n",
    "    # Integration of SIR equations over the time grid, t.\n",
    "    integral = odeint(sir_rates, y0, t, args=(N, beta, gamma))\n",
    "    S, I, R = integral.T\n",
    "\n",
    "\n",
    "    ax.plot(t, I, 'r', lw=3, label='Infected')\n",
    "\n",
    "    \n",
    "    ax.set_xlabel('Time /days')\n",
    "    ax.set_ylabel('Number (1000s)')\n",
    "    ax.set_ylim(0,N*.7)\n",
    "    ax.yaxis.set_tick_params(length=0)\n",
    "    ax.xaxis.set_tick_params(length=0)\n",
    "    ax.grid()\n",
    "    ax.legend()\n",
    "\n",
    "    for spine in ('top', 'right', 'bottom', 'left'):\n",
    "        ax.spines[spine].set_visible(False)\n",
    "\n",
    "    \n",
    "    return [my_plot]\n",
    "\n",
    "\n",
    "\n",
    "# create animation using the animate() function with no repeat\n",
    "myAnimation = animation.FuncAnimation(fig, animate, frames=np.arange(8, 1.5,-0.25,), \\\n",
    "                                      interval=100, blit=True, repeat=False)\n",
    "\n",
    "# save animation at 30 frames per second \n",
    "myAnimation.save('sirAnimation.gif', writer='imagemagick', fps=30)"
   ]
  }
 ],
 "metadata": {
  "kernelspec": {
   "display_name": "Python 3",
   "language": "python",
   "name": "python3"
  },
  "language_info": {
   "codemirror_mode": {
    "name": "ipython",
    "version": 3
   },
   "file_extension": ".py",
   "mimetype": "text/x-python",
   "name": "python",
   "nbconvert_exporter": "python",
   "pygments_lexer": "ipython3",
   "version": "3.7.3"
  },
  "toc": {
   "base_numbering": 1,
   "nav_menu": {},
   "number_sections": true,
   "sideBar": true,
   "skip_h1_title": false,
   "title_cell": "Table of Contents",
   "title_sidebar": "Contents",
   "toc_cell": false,
   "toc_position": {},
   "toc_section_display": true,
   "toc_window_display": false
  }
 },
 "nbformat": 4,
 "nbformat_minor": 2
}
